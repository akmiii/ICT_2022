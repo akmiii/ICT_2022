{
 "cells": [
  {
   "cell_type": "code",
   "execution_count": 8,
   "metadata": {},
   "outputs": [
    {
     "name": "stdout",
     "output_type": "stream",
     "text": [
      "           Date        Open        High         Low       Close   Adj Close  \\\n",
      "0    2004-08-19    2.502503    2.604104    2.401401    2.511011    2.511011   \n",
      "1    2004-08-20    2.527778    2.729730    2.515015    2.710460    2.710460   \n",
      "2    2004-08-23    2.771522    2.839840    2.728979    2.737738    2.737738   \n",
      "3    2004-08-24    2.783784    2.792793    2.591842    2.624374    2.624374   \n",
      "4    2004-08-25    2.626627    2.702703    2.599600    2.652653    2.652653   \n",
      "...         ...         ...         ...         ...         ...         ...   \n",
      "4535 2022-08-24  113.500000  114.779999  112.870003  113.690002  113.690002   \n",
      "4536 2022-08-25  114.239998  116.720001  114.110001  116.650002  116.650002   \n",
      "4537 2022-08-26  114.720001  115.120003  110.190002  110.339996  110.339996   \n",
      "4538 2022-08-29  109.989998  110.949997  108.800003  109.419998  109.419998   \n",
      "4539 2022-08-30  110.169998  110.500000  107.800003  108.940002  108.940002   \n",
      "\n",
      "         Volume   Name  \n",
      "0     893181924  GOOGL  \n",
      "1     456686856  GOOGL  \n",
      "2     365122512  GOOGL  \n",
      "3     304946748  GOOGL  \n",
      "4     183772044  GOOGL  \n",
      "...         ...    ...  \n",
      "4535   17734600  GOOGL  \n",
      "4536   16956800  GOOGL  \n",
      "4537   37245700  GOOGL  \n",
      "4538   21191200  GOOGL  \n",
      "4539   27513300  GOOGL  \n",
      "\n",
      "[4540 rows x 8 columns]\n"
     ]
    }
   ],
   "source": [
    "import pandas as pd\n",
    "import numpy as np\n",
    "\n",
    "df_origin = pd.read_parquet(r\"df_final_US_EUR.parquet\")\n",
    "\n",
    "# print(df_origin.isnull().sum())\n",
    "\n",
    "df = df_origin[df_origin['Name'] == 'GOOGL'].copy()\n",
    "df.reset_index(drop = True, inplace = True)\n",
    "print(df)\n",
    "\n",
    "# print(df.isnull().sum())"
   ]
  },
  {
   "cell_type": "code",
   "execution_count": 2,
   "metadata": {},
   "outputs": [
    {
     "name": "stdout",
     "output_type": "stream",
     "text": [
      "           Date        Open        High         Low       Close   Adj Close  \\\n",
      "0    2004-08-19    2.502503    2.604104    2.401401    2.511011    2.511011   \n",
      "1    2004-08-20    2.527778    2.729730    2.515015    2.710460    2.710460   \n",
      "2    2004-08-23    2.771522    2.839840    2.728979    2.737738    2.737738   \n",
      "3    2004-08-24    2.783784    2.792793    2.591842    2.624374    2.624374   \n",
      "4    2004-08-25    2.626627    2.702703    2.599600    2.652653    2.652653   \n",
      "...         ...         ...         ...         ...         ...         ...   \n",
      "4535 2022-08-24  113.500000  114.779999  112.870003  113.690002  113.690002   \n",
      "4536 2022-08-25  114.239998  116.720001  114.110001  116.650002  116.650002   \n",
      "4537 2022-08-26  114.720001  115.120003  110.190002  110.339996  110.339996   \n",
      "4538 2022-08-29  109.989998  110.949997  108.800003  109.419998  109.419998   \n",
      "4539 2022-08-30  110.169998  110.500000  107.800003  108.940002  108.940002   \n",
      "\n",
      "         Volume   Name  perc_Open  perc_High  perc_Low  perc_Close  \\\n",
      "0     893181924  GOOGL   0.000000   0.000000  0.000000    0.000000   \n",
      "1     456686856  GOOGL   0.999890   4.602135  4.517422    7.358495   \n",
      "2     365122512  GOOGL   8.794595   3.877333  7.840449    0.996368   \n",
      "3     304946748  GOOGL   0.440475  -1.684582 -5.291109   -4.319658   \n",
      "4     183772044  GOOGL  -5.983223  -3.333331  0.298436    1.066067   \n",
      "...         ...    ...        ...        ...       ...         ...   \n",
      "4535   17734600  GOOGL   0.017618  -0.200386 -0.496144   -0.149528   \n",
      "4536   16956800  GOOGL   0.647757   1.662099  1.086669    2.537505   \n",
      "4537   37245700  GOOGL   0.418413  -1.389853 -3.557490   -5.718693   \n",
      "4538   21191200  GOOGL  -4.300394  -3.758455 -1.277573   -0.840795   \n",
      "4539   27513300  GOOGL   0.163384  -0.407237 -0.927644   -0.440606   \n",
      "\n",
      "      perc_Adj Close  perc_Volume  \n",
      "0           0.000000     0.000000  \n",
      "1           7.358493   -95.578636  \n",
      "2           0.996370   -25.077704  \n",
      "3          -4.319659   -19.733204  \n",
      "4           1.066065   -65.937507  \n",
      "...              ...          ...  \n",
      "4535       -0.149529    10.511655  \n",
      "4536        2.537505    -4.586950  \n",
      "4537       -5.718693    54.473134  \n",
      "4538       -0.840795   -75.760221  \n",
      "4539       -0.440606    22.978341  \n",
      "\n",
      "[4540 rows x 14 columns]\n"
     ]
    }
   ],
   "source": [
    "col = ['Open', 'High', 'Low', 'Close', 'Adj Close','Volume']\n",
    "for c in col:\n",
    "    perc = []\n",
    "    for index, line in df.iterrows():\n",
    "        if index == 0:\n",
    "            perc.append(0)\n",
    "        else:\n",
    "            perc.append( (line[c] - df.loc[index-1, c])/line[c] *100)\n",
    "\n",
    "    df['perc_'+c] = perc\n",
    "print(df)"
   ]
  },
  {
   "cell_type": "code",
   "execution_count": 15,
   "metadata": {},
   "outputs": [],
   "source": [
    "\n",
    "# for index, lines in df.iterrows():\n",
    "#     try:\n",
    "#         if (lines['perc_Close'] <= 0):\n",
    "#             df.loc[index, 'perc_Close'] = np.nan\n",
    "#     except:\n",
    "#         pass\n",
    "\n",
    "# for index, lines in df.iterrows():\n",
    "#     try:\n",
    "#         if (lines['perc_High'] <= 0):\n",
    "#             df.loc[index, 'perc_High'] = np.nan\n",
    "#     except:\n",
    "#         pass\n",
    "\n",
    "# for index, lines in df.iterrows():\n",
    "#     try:\n",
    "#         if (lines['perc_Low'] <= 0):\n",
    "#             df.loc[index, 'perc_Low'] = np.nan\n",
    "#     except:\n",
    "#         pass\n",
    "\n",
    "# for index, lines in df.iterrows():\n",
    "#     try:\n",
    "#         if (lines['Volume'] <= 0):\n",
    "#             df.loc[index, 'Volume'] = np.nan\n",
    "#     except:\n",
    "#         pass\n",
    "\n",
    "# print(df.isnull().sum())    "
   ]
  },
  {
   "cell_type": "code",
   "execution_count": 9,
   "metadata": {},
   "outputs": [],
   "source": [
    "df_origin = df_origin.replace(0, np.nan)"
   ]
  },
  {
   "cell_type": "code",
   "execution_count": 10,
   "metadata": {},
   "outputs": [
    {
     "name": "stdout",
     "output_type": "stream",
     "text": [
      "Date               0\n",
      "Open         1088964\n",
      "High               4\n",
      "Low                6\n",
      "Close              4\n",
      "Adj Close        882\n",
      "Volume       1646417\n",
      "Name               0\n",
      "dtype: int64\n",
      "2736277\n"
     ]
    }
   ],
   "source": [
    "print(df_origin.isnull().sum())\n",
    "print(df_origin.isnull().sum().sum())"
   ]
  },
  {
   "cell_type": "code",
   "execution_count": 11,
   "metadata": {},
   "outputs": [],
   "source": [
    "df_origin[df_origin['Volume'] < 0] = np.nan"
   ]
  },
  {
   "cell_type": "code",
   "execution_count": 12,
   "metadata": {},
   "outputs": [
    {
     "name": "stdout",
     "output_type": "stream",
     "text": [
      "Date              38\n",
      "Open         1089002\n",
      "High              42\n",
      "Low               44\n",
      "Close             42\n",
      "Adj Close        920\n",
      "Volume       1646455\n",
      "Name              38\n",
      "dtype: int64\n",
      "2736581\n"
     ]
    }
   ],
   "source": [
    "print(df_origin.isnull().sum())\n",
    "print(df_origin.isnull().sum().sum())"
   ]
  },
  {
   "cell_type": "code",
   "execution_count": null,
   "metadata": {},
   "outputs": [],
   "source": []
  }
 ],
 "metadata": {
  "kernelspec": {
   "display_name": "Python 3.10.2 64-bit",
   "language": "python",
   "name": "python3"
  },
  "language_info": {
   "codemirror_mode": {
    "name": "ipython",
    "version": 3
   },
   "file_extension": ".py",
   "mimetype": "text/x-python",
   "name": "python",
   "nbconvert_exporter": "python",
   "pygments_lexer": "ipython3",
   "version": "3.10.2"
  },
  "orig_nbformat": 4,
  "vscode": {
   "interpreter": {
    "hash": "03b254a122a29b5b6b2e2be093a3c4540ec601800921327b0325f2ff1dcb1ccb"
   }
  }
 },
 "nbformat": 4,
 "nbformat_minor": 2
}
