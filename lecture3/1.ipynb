{
 "cells": [
  {
   "cell_type": "code",
   "execution_count": 3,
   "metadata": {},
   "outputs": [
    {
     "name": "stdout",
     "output_type": "stream",
     "text": [
      "    Brand  Taste Sugar_Content\n",
      "0    Coca      5          high\n",
      "1   Pepsi      6          high\n",
      "2  Sprite      9          high\n",
      "3   Water      8           low\n"
     ]
    }
   ],
   "source": [
    "import pandas as pd\n",
    "\n",
    "df = pd.DataFrame({'Brand' : ['Coca', 'Pepsi', 'Sprite', 'Water'], 'Taste' : [5, 6, 9, 8], 'Sugar_Content' : ['high', 'high', 'high', 'low']})\n",
    "# df = pd.DataFrame({'Coca': [5, 'high'], 'Pepsi': [6, 'high'], 'Sprite' : [9, 'high'], 'Water' : [8, 'low'] })\n",
    "print(df)"
   ]
  },
  {
   "cell_type": "code",
   "execution_count": 6,
   "metadata": {},
   "outputs": [
    {
     "name": "stdout",
     "output_type": "stream",
     "text": [
      "    Brand  Taste Sugar\n",
      "0    Coca      5  high\n",
      "1   Pepsi      6  high\n",
      "2  Sprite      9  high\n",
      "3   Water      8   low\n"
     ]
    }
   ],
   "source": [
    "import pandas as pd\n",
    "\n",
    "# ind = [0, 1, 2, 3]\n",
    "Brand = ['Coca', 'Pepsi', 'Sprite', 'Water']\n",
    "Taste = [5, 6, 9, 8]\n",
    "Sugar_Content = ['high', 'high', 'high', 'low']\n",
    "\n",
    "df = pd.DataFrame(zip( Brand, Taste, Sugar_Content), columns=['Brand', 'Taste', 'Sugar'])\n",
    "print(df)\n"
   ]
  },
  {
   "cell_type": "code",
   "execution_count": 28,
   "metadata": {},
   "outputs": [
    {
     "name": "stdout",
     "output_type": "stream",
     "text": [
      "                  Open        High         Low       Close   Adj Close  \\\n",
      "Date                                                                     \n",
      "2018-12-07   22.000000   22.750000   18.510000   18.600000   18.600000   \n",
      "2018-12-10   18.900000   19.438999   18.000000   18.799999   18.799999   \n",
      "2018-12-11   20.549999   20.660000   17.990000   18.010000   18.010000   \n",
      "2018-12-12   18.549999   19.480000   18.020000   18.680000   18.680000   \n",
      "2018-12-13   19.250000   19.290001   18.680000   18.760000   18.760000   \n",
      "...                ...         ...         ...         ...         ...   \n",
      "2022-08-31  136.949997  139.880005  131.710007  132.270004  132.270004   \n",
      "2022-09-01  131.130005  139.000000  130.110001  138.949997  138.949997   \n",
      "2022-09-02  140.360001  140.929993  137.468994  138.570007  138.570007   \n",
      "2022-09-06  138.000000  138.399994  129.820007  130.080002  130.080002   \n",
      "2022-09-07  129.679993  135.100006  129.580002  134.899994  134.899994   \n",
      "\n",
      "              Volume  \n",
      "Date                  \n",
      "2018-12-07  12995600  \n",
      "2018-12-10   4233300  \n",
      "2018-12-11   3435300  \n",
      "2018-12-12   2590700  \n",
      "2018-12-13   1608600  \n",
      "...              ...  \n",
      "2022-08-31   4396500  \n",
      "2022-09-01   6664800  \n",
      "2022-09-02   5266600  \n",
      "2022-09-06   5871400  \n",
      "2022-09-07   3965600  \n",
      "\n",
      "[944 rows x 6 columns]\n"
     ]
    }
   ],
   "source": [
    "import csv\n",
    "import pandas as pd\n",
    "\n",
    "with open(\"MRNA.csv\", 'r') as file:\n",
    "    csv_file = csv.reader(file)\n",
    "    columns_name = csv_file.__next__()\n",
    "\n",
    "    df = pd.DataFrame(csv_file, columns = columns_name)\n",
    "\n",
    "    df = df.sort_values('Date')\n",
    "    # df = df.set_index(drop = True)\n",
    "    df = df.set_index(['Date'])\n",
    "    # df = df.set_index(drop = True)\n",
    "print(df)\n"
   ]
  },
  {
   "cell_type": "code",
   "execution_count": 39,
   "metadata": {},
   "outputs": [
    {
     "ename": "ImportError",
     "evalue": "matplotlib is required for plotting when the default backend \"matplotlib\" is selected.",
     "output_type": "error",
     "traceback": [
      "\u001b[1;31m---------------------------------------------------------------------------\u001b[0m",
      "\u001b[1;31mImportError\u001b[0m                               Traceback (most recent call last)",
      "\u001b[1;32mc:\\Users\\Акмира\\OneDrive\\Документы\\GitHub\\ICT_2022\\lecture3\\1.ipynb Ячейка 4\u001b[0m in \u001b[0;36m<cell line: 6>\u001b[1;34m()\u001b[0m\n\u001b[0;32m      <a href='vscode-notebook-cell:/c%3A/Users/%D0%90%D0%BA%D0%BC%D0%B8%D1%80%D0%B0/OneDrive/%D0%94%D0%BE%D0%BA%D1%83%D0%BC%D0%B5%D0%BD%D1%82%D1%8B/GitHub/ICT_2022/lecture3/1.ipynb#W3sZmlsZQ%3D%3D?line=1'>2</a>\u001b[0m \u001b[39mimport\u001b[39;00m \u001b[39mpandas\u001b[39;00m \u001b[39mas\u001b[39;00m \u001b[39mpd\u001b[39;00m\n\u001b[0;32m      <a href='vscode-notebook-cell:/c%3A/Users/%D0%90%D0%BA%D0%BC%D0%B8%D1%80%D0%B0/OneDrive/%D0%94%D0%BE%D0%BA%D1%83%D0%BC%D0%B5%D0%BD%D1%82%D1%8B/GitHub/ICT_2022/lecture3/1.ipynb#W3sZmlsZQ%3D%3D?line=4'>5</a>\u001b[0m df \u001b[39m=\u001b[39m pd\u001b[39m.\u001b[39mread_csv(\u001b[39m\"\u001b[39m\u001b[39mMRNA.csv\u001b[39m\u001b[39m\"\u001b[39m, parse_dates\u001b[39m=\u001b[39m[\u001b[39m\"\u001b[39m\u001b[39mDate\u001b[39m\u001b[39m\"\u001b[39m])\n\u001b[1;32m----> <a href='vscode-notebook-cell:/c%3A/Users/%D0%90%D0%BA%D0%BC%D0%B8%D1%80%D0%B0/OneDrive/%D0%94%D0%BE%D0%BA%D1%83%D0%BC%D0%B5%D0%BD%D1%82%D1%8B/GitHub/ICT_2022/lecture3/1.ipynb#W3sZmlsZQ%3D%3D?line=5'>6</a>\u001b[0m df\u001b[39m.\u001b[39;49mplot(x \u001b[39m=\u001b[39;49m \u001b[39m'\u001b[39;49m\u001b[39mDate\u001b[39;49m\u001b[39m'\u001b[39;49m, y \u001b[39m=\u001b[39;49m \u001b[39m'\u001b[39;49m\u001b[39mOpen\u001b[39;49m\u001b[39m'\u001b[39;49m)\n",
      "File \u001b[1;32mc:\\Users\\Акмира\\AppData\\Local\\Programs\\Python\\Python310\\lib\\site-packages\\pandas\\plotting\\_core.py:892\u001b[0m, in \u001b[0;36mPlotAccessor.__call__\u001b[1;34m(self, *args, **kwargs)\u001b[0m\n\u001b[0;32m    891\u001b[0m \u001b[39mdef\u001b[39;00m \u001b[39m__call__\u001b[39m(\u001b[39mself\u001b[39m, \u001b[39m*\u001b[39margs, \u001b[39m*\u001b[39m\u001b[39m*\u001b[39mkwargs):\n\u001b[1;32m--> 892\u001b[0m     plot_backend \u001b[39m=\u001b[39m _get_plot_backend(kwargs\u001b[39m.\u001b[39;49mpop(\u001b[39m\"\u001b[39;49m\u001b[39mbackend\u001b[39;49m\u001b[39m\"\u001b[39;49m, \u001b[39mNone\u001b[39;49;00m))\n\u001b[0;32m    894\u001b[0m     x, y, kind, kwargs \u001b[39m=\u001b[39m \u001b[39mself\u001b[39m\u001b[39m.\u001b[39m_get_call_args(\n\u001b[0;32m    895\u001b[0m         plot_backend\u001b[39m.\u001b[39m\u001b[39m__name__\u001b[39m, \u001b[39mself\u001b[39m\u001b[39m.\u001b[39m_parent, args, kwargs\n\u001b[0;32m    896\u001b[0m     )\n\u001b[0;32m    898\u001b[0m     kind \u001b[39m=\u001b[39m \u001b[39mself\u001b[39m\u001b[39m.\u001b[39m_kind_aliases\u001b[39m.\u001b[39mget(kind, kind)\n",
      "File \u001b[1;32mc:\\Users\\Акмира\\AppData\\Local\\Programs\\Python\\Python310\\lib\\site-packages\\pandas\\plotting\\_core.py:1849\u001b[0m, in \u001b[0;36m_get_plot_backend\u001b[1;34m(backend)\u001b[0m\n\u001b[0;32m   1846\u001b[0m \u001b[39mif\u001b[39;00m backend \u001b[39min\u001b[39;00m _backends:\n\u001b[0;32m   1847\u001b[0m     \u001b[39mreturn\u001b[39;00m _backends[backend]\n\u001b[1;32m-> 1849\u001b[0m module \u001b[39m=\u001b[39m _load_backend(backend)\n\u001b[0;32m   1850\u001b[0m _backends[backend] \u001b[39m=\u001b[39m module\n\u001b[0;32m   1851\u001b[0m \u001b[39mreturn\u001b[39;00m module\n",
      "File \u001b[1;32mc:\\Users\\Акмира\\AppData\\Local\\Programs\\Python\\Python310\\lib\\site-packages\\pandas\\plotting\\_core.py:1787\u001b[0m, in \u001b[0;36m_load_backend\u001b[1;34m(backend)\u001b[0m\n\u001b[0;32m   1785\u001b[0m         module \u001b[39m=\u001b[39m importlib\u001b[39m.\u001b[39mimport_module(\u001b[39m\"\u001b[39m\u001b[39mpandas.plotting._matplotlib\u001b[39m\u001b[39m\"\u001b[39m)\n\u001b[0;32m   1786\u001b[0m     \u001b[39mexcept\u001b[39;00m \u001b[39mImportError\u001b[39;00m:\n\u001b[1;32m-> 1787\u001b[0m         \u001b[39mraise\u001b[39;00m \u001b[39mImportError\u001b[39;00m(\n\u001b[0;32m   1788\u001b[0m             \u001b[39m\"\u001b[39m\u001b[39mmatplotlib is required for plotting when the \u001b[39m\u001b[39m\"\u001b[39m\n\u001b[0;32m   1789\u001b[0m             \u001b[39m'\u001b[39m\u001b[39mdefault backend \u001b[39m\u001b[39m\"\u001b[39m\u001b[39mmatplotlib\u001b[39m\u001b[39m\"\u001b[39m\u001b[39m is selected.\u001b[39m\u001b[39m'\u001b[39m\n\u001b[0;32m   1790\u001b[0m         ) \u001b[39mfrom\u001b[39;00m \u001b[39mNone\u001b[39m\n\u001b[0;32m   1791\u001b[0m     \u001b[39mreturn\u001b[39;00m module\n\u001b[0;32m   1793\u001b[0m found_backend \u001b[39m=\u001b[39m \u001b[39mFalse\u001b[39;00m\n",
      "\u001b[1;31mImportError\u001b[0m: matplotlib is required for plotting when the default backend \"matplotlib\" is selected."
     ]
    }
   ],
   "source": [
    "import csv\n",
    "import pandas as pd\n",
    "\n",
    "df = pd.read_csv(\"MRNA.csv\", parse_dates=[\"Date\"])\n",
    "df.plot(x = 'Date', y = 'Open')\n",
    "# print(df)\n",
    "\n",
    "# print(df)/"
   ]
  }
 ],
 "metadata": {
  "kernelspec": {
   "display_name": "Python 3.10.2 64-bit (system)",
   "language": "python",
   "name": "python3"
  },
  "language_info": {
   "codemirror_mode": {
    "name": "ipython",
    "version": 3
   },
   "file_extension": ".py",
   "mimetype": "text/x-python",
   "name": "python",
   "nbconvert_exporter": "python",
   "pygments_lexer": "ipython3",
   "version": "3.10.2"
  },
  "orig_nbformat": 4,
  "vscode": {
   "interpreter": {
    "hash": "03b254a122a29b5b6b2e2be093a3c4540ec601800921327b0325f2ff1dcb1ccb"
   }
  }
 },
 "nbformat": 4,
 "nbformat_minor": 2
}
