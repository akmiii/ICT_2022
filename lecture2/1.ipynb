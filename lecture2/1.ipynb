{
 "cells": [
  {
   "cell_type": "code",
   "execution_count": 6,
   "metadata": {},
   "outputs": [
    {
     "name": "stdout",
     "output_type": "stream",
     "text": [
      "Students results\n",
      "\n",
      "   Akmira  Lyaka  Nicole  Amina  Asik  Dayana\n",
      "0      10     10       2     10     1       0\n",
      "1      10     10       5     10     9       1\n",
      "2      10     10       9     10     2       4\n"
     ]
    }
   ],
   "source": [
    "import pandas as pd\n",
    "\n",
    "print(\"Students results\")\n",
    "print()\n",
    "Akmira, Lyaka, Nicole, Amina, Asik, Dayana = [10, 10, 10], [10, 10, 10], [2, 5, 9], [10, 10, 10], [1, 9 , 2], [0, 1, 4]\n",
    "D = {\"Akmira\" : Akmira, \"Lyaka\" : Lyaka, \"Nicole\" : Nicole, \"Amina\" : Amina, \"Asik\" : Asik, \"Dayana\" : Dayana}\n",
    "df = pd.DataFrame(D)\n",
    "print(df)"
   ]
  },
  {
   "cell_type": "code",
   "execution_count": 20,
   "metadata": {},
   "outputs": [
    {
     "name": "stdout",
     "output_type": "stream",
     "text": [
      "          Date        Open        High         Low       Close   Adj Close  \\\n",
      "0   2018-12-07   22.000000   22.750000   18.510000   18.600000   18.600000   \n",
      "1   2018-12-10   18.900000   19.438999   18.000000   18.799999   18.799999   \n",
      "2   2018-12-11   20.549999   20.660000   17.990000   18.010000   18.010000   \n",
      "3   2018-12-12   18.549999   19.480000   18.020000   18.680000   18.680000   \n",
      "4   2018-12-13   19.250000   19.290001   18.680000   18.760000   18.760000   \n",
      "..         ...         ...         ...         ...         ...         ...   \n",
      "939 2022-08-31  136.949997  139.880005  131.710007  132.270004  132.270004   \n",
      "940 2022-09-01  131.130005  139.000000  130.110001  138.949997  138.949997   \n",
      "941 2022-09-02  140.360001  140.929993  137.468994  138.570007  138.570007   \n",
      "942 2022-09-06  138.000000  138.399994  129.820007  130.080002  130.080002   \n",
      "943 2022-09-07  129.679993  135.100006  129.580002  134.899994  134.899994   \n",
      "\n",
      "       Volume  \n",
      "0    12995600  \n",
      "1     4233300  \n",
      "2     3435300  \n",
      "3     2590700  \n",
      "4     1608600  \n",
      "..        ...  \n",
      "939   4396500  \n",
      "940   6664800  \n",
      "941   5266600  \n",
      "942   5871400  \n",
      "943   3965600  \n",
      "\n",
      "[944 rows x 7 columns]\n"
     ]
    }
   ],
   "source": [
    "import csv\n",
    "import pandas as pd\n",
    "from datetime import datetime\n",
    "\n",
    "df = pd.read_csv(r\"C:\\Users\\Акмира\\OneDrive\\Документы\\GitHub\\ICT_2022\\practice1\\MRNA.csv\",  parse_dates = [0])\n",
    "# df['Date'] = [datetime.datetime.strptime(i, \"%Y-%m-%d\") for i in df['Date']]\n",
    "print(df)"
   ]
  }
 ],
 "metadata": {
  "kernelspec": {
   "display_name": "Python 3.10.2 64-bit (system)",
   "language": "python",
   "name": "python3"
  },
  "language_info": {
   "codemirror_mode": {
    "name": "ipython",
    "version": 3
   },
   "file_extension": ".py",
   "mimetype": "text/x-python",
   "name": "python",
   "nbconvert_exporter": "python",
   "pygments_lexer": "ipython3",
   "version": "3.10.2"
  },
  "orig_nbformat": 4,
  "vscode": {
   "interpreter": {
    "hash": "03b254a122a29b5b6b2e2be093a3c4540ec601800921327b0325f2ff1dcb1ccb"
   }
  }
 },
 "nbformat": 4,
 "nbformat_minor": 2
}
