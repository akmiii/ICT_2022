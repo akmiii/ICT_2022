{
 "cells": [
  {
   "cell_type": "code",
   "execution_count": 3,
   "metadata": {},
   "outputs": [
    {
     "name": "stdout",
     "output_type": "stream",
     "text": [
      "77.57009345794393 %\n"
     ]
    }
   ],
   "source": [
    "import csv\n",
    "\n",
    "number_of_yes = 0\n",
    "total = 0\n",
    "\n",
    "with open(r\"C:\\Users\\Акмира\\OneDrive\\Документы\\GitHub\\ICT_2022\\lecture1\\Skills assessment_modified.csv\", \"r\") as file:\n",
    "    csv_file = csv.reader(file)\n",
    "    for row in csv_file:\n",
    "        total += 1\n",
    "        if row[1] == \"Yes\":\n",
    "            number_of_yes += 1\n",
    "\n",
    "print(number_of_yes/total * 100, '%')"
   ]
  },
  {
   "cell_type": "code",
   "execution_count": 1,
   "metadata": {},
   "outputs": [],
   "source": [
    "import xlwt\n",
    "import csv\n",
    "\n",
    "book = xlwt.Workbook(r\"C:\\Users\\Акмира\\OneDrive\\Документы\\GitHub\\ICT_2022\\lecture1\\my_file.xls\")\n",
    "\n",
    "ws = book.add_sheet('A Test Sheet')\n",
    "first_column = []\n",
    "with open(r\"C:\\Users\\Акмира\\OneDrive\\Документы\\GitHub\\ICT_2022\\lecture1\\Skills assessment_modified.csv\", \"r\") as file:\n",
    "    csv_file = csv.reader(file)\n",
    "    for row in csv_file:\n",
    "        first_column.append(row[0])\n",
    "for i in range(0, len(first_column)):\n",
    "    ws.write(i, 0, first_column[i])\n",
    "    \n",
    "book.save(r\"C:\\Users\\Акмира\\OneDrive\\Документы\\GitHub\\ICT_2022\\lecture1\\my_file.xls\")\n",
    "\n",
    "\n",
    "\n"
   ]
  }
 ],
 "metadata": {
  "kernelspec": {
   "display_name": "Python 3.10.2 64-bit (system)",
   "language": "python",
   "name": "python3"
  },
  "language_info": {
   "codemirror_mode": {
    "name": "ipython",
    "version": 3
   },
   "file_extension": ".py",
   "mimetype": "text/x-python",
   "name": "python",
   "nbconvert_exporter": "python",
   "pygments_lexer": "ipython3",
   "version": "3.10.2"
  },
  "orig_nbformat": 4,
  "vscode": {
   "interpreter": {
    "hash": "03b254a122a29b5b6b2e2be093a3c4540ec601800921327b0325f2ff1dcb1ccb"
   }
  }
 },
 "nbformat": 4,
 "nbformat_minor": 2
}
