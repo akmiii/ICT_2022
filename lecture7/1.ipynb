{
 "cells": [
  {
   "cell_type": "code",
   "execution_count": 5,
   "metadata": {},
   "outputs": [],
   "source": [
    "import pandas as pd\n",
    "import numpy as np"
   ]
  },
  {
   "cell_type": "code",
   "execution_count": 62,
   "metadata": {},
   "outputs": [
    {
     "name": "stdout",
     "output_type": "stream",
     "text": [
      "            PID  ST_NUM     ST_NAME OWN_OCCUPIED NUM_BEDROOMS NUM_BATH   SQ_M\n",
      "0   100001000.0   104.0      PUTNAM            Y            3        1    100\n",
      "1   100002000.0   197.0   LEXINGTON            N            3      1.5     --\n",
      "2   100003000.0     NaN   LEXINGTON            N          NaN        1     85\n",
      "3   100004000.0   201.0    BERKELEY           12            1      NaN     70\n",
      "4           NaN   203.0    BERKELEY            Y            3        2    160\n",
      "5   100006000.0   207.0    BERKELEY            Y          NaN        1  80000\n",
      "6   100007000.0     NaN  WASHINGTON          NaN            2   HURLEY     95\n",
      "7   100008000.0   213.0     TREMONT            Y            1        1    NaN\n",
      "8   100009000.0   215.0     TREMONT            Y           na        2    180\n",
      "9   100009000.0   215.0     TREMONT            Y           na        2    180\n",
      "10  100009000.0   215.0     TREMONT            Y           na        2    180\n",
      "11  100002000.0   197.0   LEXINGTON            N            3      1.5     --\n"
     ]
    }
   ],
   "source": [
    "df = pd.read_csv(r\"C:\\Users\\Акмира\\OneDrive\\Документы\\GitHub\\ICT_2022\\csv_to_clean.csv\") #link\n",
    "print(df)"
   ]
  },
  {
   "cell_type": "code",
   "execution_count": 7,
   "metadata": {},
   "outputs": [
    {
     "name": "stdout",
     "output_type": "stream",
     "text": [
      "      PID  ST_NUM  ST_NAME  OWN_OCCUPIED  NUM_BEDROOMS  NUM_BATH   SQ_M\n",
      "0   False   False    False         False         False     False  False\n",
      "1   False   False    False         False         False     False  False\n",
      "2   False    True    False         False          True     False  False\n",
      "3   False   False    False         False         False      True  False\n",
      "4    True   False    False         False         False     False  False\n",
      "5   False   False    False         False          True     False  False\n",
      "6   False    True    False          True         False     False  False\n",
      "7   False   False    False         False         False     False   True\n",
      "8   False   False    False         False         False     False  False\n",
      "9   False   False    False         False         False     False  False\n",
      "10  False   False    False         False         False     False  False\n",
      "11  False   False    False         False         False     False  False\n"
     ]
    }
   ],
   "source": [
    "print(df.isnull())"
   ]
  },
  {
   "cell_type": "code",
   "execution_count": 18,
   "metadata": {},
   "outputs": [
    {
     "name": "stdout",
     "output_type": "stream",
     "text": [
      "            PID  ST_NUM     ST_NAME OWN_OCCUPIED  NUM_BEDROOMS NUM_BATH  \\\n",
      "0   100001000.0   104.0      PUTNAM            Y           3.0        1   \n",
      "1   100002000.0   197.0   LEXINGTON            N           3.0      1.5   \n",
      "2   100003000.0     NaN   LEXINGTON            N           NaN        1   \n",
      "3   100004000.0   201.0    BERKELEY           12           1.0      NaN   \n",
      "4           NaN   203.0    BERKELEY            Y           3.0        2   \n",
      "5   100006000.0   207.0    BERKELEY            Y           NaN        1   \n",
      "6   100007000.0     NaN  WASHINGTON          NaN           2.0   HURLEY   \n",
      "7   100008000.0   213.0     TREMONT            Y           1.0        1   \n",
      "8   100009000.0   215.0     TREMONT            Y           NaN        2   \n",
      "9   100009000.0   215.0     TREMONT            Y           NaN        2   \n",
      "10  100009000.0   215.0     TREMONT            Y           NaN        2   \n",
      "11  100002000.0   197.0   LEXINGTON            N           3.0      1.5   \n",
      "\n",
      "       SQ_M  \n",
      "0     100.0  \n",
      "1       NaN  \n",
      "2      85.0  \n",
      "3      70.0  \n",
      "4     160.0  \n",
      "5   80000.0  \n",
      "6      95.0  \n",
      "7       NaN  \n",
      "8     180.0  \n",
      "9     180.0  \n",
      "10    180.0  \n",
      "11      NaN  \n",
      "13\n"
     ]
    }
   ],
   "source": [
    "missing_values = ['na', '--']\n",
    "df = pd.read_csv(r\"C:\\Users\\Акмира\\OneDrive\\Документы\\GitHub\\ICT_2022\\csv_to_clean.csv\",\n",
    "    na_values=missing_values)\n",
    "\n",
    "print(df) \n",
    "print(df.isnull().sum().sum())"
   ]
  },
  {
   "cell_type": "code",
   "execution_count": 24,
   "metadata": {},
   "outputs": [
    {
     "name": "stdout",
     "output_type": "stream",
     "text": [
      "           PID  ST_NUM ST_NAME OWN_OCCUPIED  NUM_BEDROOMS NUM_BATH   SQ_M\n",
      "0  100001000.0   104.0  PUTNAM            Y           3.0        1  100.0\n"
     ]
    }
   ],
   "source": [
    "for index, lines in df.iterrows():\n",
    "    try:\n",
    "        a = int(lines['OWN_OCCUPIED'])\n",
    "        print(a)\n",
    "        df.loc[index, 'OWN_OCCUPIED'] = np.nan\n",
    "    except:\n",
    "        pass\n",
    "print(df)"
   ]
  },
  {
   "cell_type": "code",
   "execution_count": 3,
   "metadata": {},
   "outputs": [
    {
     "name": "stdout",
     "output_type": "stream",
     "text": [
      "error\n"
     ]
    }
   ],
   "source": [
    "try:\n",
    "    prit('hi')\n",
    "    #print('hi')\n",
    "except:\n",
    "    print('error')"
   ]
  },
  {
   "cell_type": "code",
   "execution_count": 65,
   "metadata": {},
   "outputs": [
    {
     "name": "stdout",
     "output_type": "stream",
     "text": [
      "            Date        Open        High         Low       Close   Adj Close  \\\n",
      "0     2015-08-25   27.777500           -         NaN   25.934999       ERROR   \n",
      "1     2015-08-26   26.772499   27.472500   26.262501   27.422501   25.039267   \n",
      "2     2015-08-27   28.057501   28.309999   27.504999   28.230000   25.776581   \n",
      "3     2015-08-28   28.042500   28.327499   27.885000   28.322500   25.861042   \n",
      "4     2015-08-31   28.007500   28.632500   28.000000   28.190001   25.740063   \n",
      "...          ...         ...         ...         ...         ...         ...   \n",
      "1769  2022-08-18  173.750000  174.899994  173.119995  174.149994  174.149994   \n",
      "1770  2022-08-19  173.029999  173.740005  171.309998  171.520004  171.520004   \n",
      "1771  2022-08-22  169.690002  169.860001  167.139999  167.570007  167.570007   \n",
      "1772  2022-08-23  167.080002  168.710007  166.649994  167.229996  167.229996   \n",
      "1773  2022-08-24  167.320007  168.110001  166.250000  167.529999  167.529999   \n",
      "\n",
      "         Volume  \n",
      "0     414406400  \n",
      "1     387098400  \n",
      "2     338464400  \n",
      "3         ERROR  \n",
      "4     224917200  \n",
      "...         ...  \n",
      "1769   62290100  \n",
      "1770   70211500  \n",
      "1771   69026800  \n",
      "1772   54147100  \n",
      "1773   53766800  \n",
      "\n",
      "[1774 rows x 7 columns]\n"
     ]
    }
   ],
   "source": [
    "df = pd.read_csv(r\"C:\\Users\\Акмира\\OneDrive\\Документы\\GitHub\\ICT_2022\\Apple_price_to_clean.csv\")\n",
    "print(df)"
   ]
  },
  {
   "cell_type": "code",
   "execution_count": 9,
   "metadata": {},
   "outputs": [
    {
     "name": "stdout",
     "output_type": "stream",
     "text": [
      "       Date   Open   High    Low  Close  Adj Close  Volume\n",
      "0     False  False  False   True  False      False   False\n",
      "1     False  False  False  False  False      False   False\n",
      "2     False  False  False  False  False      False   False\n",
      "3     False  False  False  False  False      False   False\n",
      "4     False  False  False  False  False      False   False\n",
      "...     ...    ...    ...    ...    ...        ...     ...\n",
      "1769  False  False  False  False  False      False   False\n",
      "1770  False  False  False  False  False      False   False\n",
      "1771  False  False  False  False  False      False   False\n",
      "1772  False  False  False  False  False      False   False\n",
      "1773  False  False  False  False  False      False   False\n",
      "\n",
      "[1774 rows x 7 columns]\n"
     ]
    }
   ],
   "source": [
    "print(df.isnull())"
   ]
  },
  {
   "cell_type": "code",
   "execution_count": 76,
   "metadata": {},
   "outputs": [
    {
     "name": "stdout",
     "output_type": "stream",
     "text": [
      "            Date        Open        High         Low       Close   Adj Close  \\\n",
      "0     2015-08-25   27.777500         NaN         NaN   25.934999         NaN   \n",
      "1     2015-08-26   26.772499   27.472500   26.262501   27.422501   25.039267   \n",
      "2     2015-08-27   28.057501   28.309999   27.504999   28.230000   25.776581   \n",
      "3     2015-08-28   28.042500   28.327499   27.885000   28.322500   25.861042   \n",
      "4     2015-08-31   28.007500   28.632500   28.000000   28.190001   25.740063   \n",
      "...          ...         ...         ...         ...         ...         ...   \n",
      "1769  2022-08-18  173.750000  174.899994  173.119995  174.149994  174.149994   \n",
      "1770  2022-08-19  173.029999  173.740005  171.309998  171.520004  171.520004   \n",
      "1771  2022-08-22  169.690002  169.860001  167.139999  167.570007  167.570007   \n",
      "1772  2022-08-23  167.080002  168.710007  166.649994  167.229996  167.229996   \n",
      "1773  2022-08-24  167.320007  168.110001  166.250000  167.529999  167.529999   \n",
      "\n",
      "           Volume  \n",
      "0     414406400.0  \n",
      "1     387098400.0  \n",
      "2     338464400.0  \n",
      "3             NaN  \n",
      "4     224917200.0  \n",
      "...           ...  \n",
      "1769   62290100.0  \n",
      "1770   70211500.0  \n",
      "1771   69026800.0  \n",
      "1772   54147100.0  \n",
      "1773   53766800.0  \n",
      "\n",
      "[1774 rows x 7 columns]\n"
     ]
    }
   ],
   "source": [
    "# my turn\n",
    "missing_values = ['-', 'ERROR']\n",
    "df = pd.read_csv(r\"C:\\Users\\Акмира\\OneDrive\\Документы\\GitHub\\ICT_2022\\Apple_price_to_clean.csv\",\n",
    "    na_values=missing_values)\n",
    "\n",
    "print(df) "
   ]
  },
  {
   "cell_type": "code",
   "execution_count": 77,
   "metadata": {},
   "outputs": [
    {
     "name": "stdout",
     "output_type": "stream",
     "text": [
      "20\n",
      "            Date        Open        High         Low       Close   Adj Close  \\\n",
      "0     2015-08-25   27.777500         NaN         NaN   25.934999         NaN   \n",
      "1     2015-08-26   26.772499   27.472500   26.262501   27.422501   25.039267   \n",
      "2     2015-08-27   28.057501   28.309999   27.504999   28.230000   25.776581   \n",
      "3     2015-08-28   28.042500   28.327499   27.885000   28.322500   25.861042   \n",
      "4     2015-08-31   28.007500   28.632500   28.000000   28.190001   25.740063   \n",
      "...          ...         ...         ...         ...         ...         ...   \n",
      "1769  2022-08-18  173.750000  174.899994  173.119995  174.149994  174.149994   \n",
      "1770  2022-08-19  173.029999  173.740005  171.309998  171.520004  171.520004   \n",
      "1771  2022-08-22  169.690002  169.860001  167.139999  167.570007  167.570007   \n",
      "1772  2022-08-23  167.080002  168.710007  166.649994  167.229996  167.229996   \n",
      "1773  2022-08-24  167.320007  168.110001  166.250000  167.529999  167.529999   \n",
      "\n",
      "           Volume  \n",
      "0     414406400.0  \n",
      "1     387098400.0  \n",
      "2     338464400.0  \n",
      "3             NaN  \n",
      "4     224917200.0  \n",
      "...           ...  \n",
      "1769   62290100.0  \n",
      "1770   70211500.0  \n",
      "1771   69026800.0  \n",
      "1772   54147100.0  \n",
      "1773   53766800.0  \n",
      "\n",
      "[1774 rows x 7 columns]\n"
     ]
    }
   ],
   "source": [
    "for index, lines in df.iterrows():\n",
    "    try:\n",
    "        a = int(lines['Date'])\n",
    "        print(a)\n",
    "        df.loc[index, 'Date'] = np.nan\n",
    "    except:\n",
    "        pass\n",
    "print(df)"
   ]
  },
  {
   "cell_type": "code",
   "execution_count": 78,
   "metadata": {},
   "outputs": [
    {
     "name": "stdout",
     "output_type": "stream",
     "text": [
      "Date         2\n",
      "Open         1\n",
      "High         2\n",
      "Low          2\n",
      "Close        3\n",
      "Adj Close    1\n",
      "Volume       2\n",
      "dtype: int64\n",
      "13\n"
     ]
    }
   ],
   "source": [
    "print(df.isnull().sum())\n",
    "print(df.isnull().sum().sum())"
   ]
  },
  {
   "cell_type": "code",
   "execution_count": 79,
   "metadata": {},
   "outputs": [
    {
     "name": "stdout",
     "output_type": "stream",
     "text": [
      "            Date        Open        High         Low       Close   Adj Close  \\\n",
      "0     2015-08-25   27.777500    0.000000    0.000000   25.934999    0.000000   \n",
      "1     2015-08-26   26.772499   27.472500   26.262501   27.422501   25.039267   \n",
      "2     2015-08-27   28.057501   28.309999   27.504999   28.230000   25.776581   \n",
      "3     2015-08-28   28.042500   28.327499   27.885000   28.322500   25.861042   \n",
      "4     2015-08-31   28.007500   28.632500   28.000000   28.190001   25.740063   \n",
      "...          ...         ...         ...         ...         ...         ...   \n",
      "1769  2022-08-18  173.750000  174.899994  173.119995  174.149994  174.149994   \n",
      "1770  2022-08-19  173.029999  173.740005  171.309998  171.520004  171.520004   \n",
      "1771  2022-08-22  169.690002  169.860001  167.139999  167.570007  167.570007   \n",
      "1772  2022-08-23  167.080002  168.710007  166.649994  167.229996  167.229996   \n",
      "1773  2022-08-24  167.320007  168.110001  166.250000  167.529999  167.529999   \n",
      "\n",
      "           Volume  \n",
      "0     414406400.0  \n",
      "1     387098400.0  \n",
      "2     338464400.0  \n",
      "3     338464400.0  \n",
      "4     224917200.0  \n",
      "...           ...  \n",
      "1769   62290100.0  \n",
      "1770   70211500.0  \n",
      "1771   69026800.0  \n",
      "1772   54147100.0  \n",
      "1773   53766800.0  \n",
      "\n",
      "[1774 rows x 7 columns]\n"
     ]
    }
   ],
   "source": [
    "df.fillna(method = 'ffill', inplace = True)\n",
    "df.fillna(0, inplace  =True)\n",
    "print(df)"
   ]
  },
  {
   "cell_type": "code",
   "execution_count": 83,
   "metadata": {},
   "outputs": [
    {
     "name": "stdout",
     "output_type": "stream",
     "text": [
      "              Open         High          Low        Close    Adj Close  \\\n",
      "count  1757.000000  1757.000000  1757.000000  1757.000000  1757.000000   \n",
      "mean     73.475951    74.052536    72.436133    73.283018    71.800773   \n",
      "std      48.990573    48.550830    47.322319    47.963681    48.441343   \n",
      "min      22.500000    22.917500    22.367500    22.584999    20.949606   \n",
      "25%      36.435001    36.790001    36.235001    36.570000    34.488281   \n",
      "50%      50.049999    50.392502    49.610001    50.119999    48.684380   \n",
      "75%     120.930000   122.580002   119.160004   120.959999   119.535591   \n",
      "max     500.099998   182.940002   179.119995   182.009995   181.259918   \n",
      "\n",
      "             Volume  \n",
      "count  1.757000e+03  \n",
      "mean   1.329355e+08  \n",
      "std    2.771812e+08  \n",
      "min    4.100000e+07  \n",
      "25%    8.581240e+07  \n",
      "50%    1.093488e+08  \n",
      "75%    1.481995e+08  \n",
      "max    1.146192e+10  \n"
     ]
    }
   ],
   "source": [
    "df.drop_duplicates(inplace=True)\n",
    "df = df[df['High'] > 0]\n",
    "df = df[df['Low'] < 200]\n",
    "df = df[df['Close'] > 0]\n",
    "print(df.describe())"
   ]
  },
  {
   "cell_type": "code",
   "execution_count": 82,
   "metadata": {},
   "outputs": [
    {
     "ename": "ImportError",
     "evalue": "matplotlib is required for plotting when the default backend \"matplotlib\" is selected.",
     "output_type": "error",
     "traceback": [
      "\u001b[1;31m---------------------------------------------------------------------------\u001b[0m",
      "\u001b[1;31mImportError\u001b[0m                               Traceback (most recent call last)",
      "\u001b[1;32mc:\\Users\\Акмира\\OneDrive\\Документы\\GitHub\\ICT_2022\\1.ipynb Ячейка 14\u001b[0m in \u001b[0;36m<cell line: 3>\u001b[1;34m()\u001b[0m\n\u001b[0;32m      <a href='vscode-notebook-cell:/c%3A/Users/%D0%90%D0%BA%D0%BC%D0%B8%D1%80%D0%B0/OneDrive/%D0%94%D0%BE%D0%BA%D1%83%D0%BC%D0%B5%D0%BD%D1%82%D1%8B/GitHub/ICT_2022/1.ipynb#X33sZmlsZQ%3D%3D?line=0'>1</a>\u001b[0m \u001b[39m# print(df.describe())\u001b[39;00m\n\u001b[1;32m----> <a href='vscode-notebook-cell:/c%3A/Users/%D0%90%D0%BA%D0%BC%D0%B8%D1%80%D0%B0/OneDrive/%D0%94%D0%BE%D0%BA%D1%83%D0%BC%D0%B5%D0%BD%D1%82%D1%8B/GitHub/ICT_2022/1.ipynb#X33sZmlsZQ%3D%3D?line=2'>3</a>\u001b[0m df\u001b[39m.\u001b[39;49mplot(x \u001b[39m=\u001b[39;49m \u001b[39m'\u001b[39;49m\u001b[39mDate\u001b[39;49m\u001b[39m'\u001b[39;49m, y \u001b[39m=\u001b[39;49m \u001b[39m'\u001b[39;49m\u001b[39mOpen\u001b[39;49m\u001b[39m'\u001b[39;49m)\n",
      "File \u001b[1;32mc:\\Users\\Акмира\\AppData\\Local\\Programs\\Python\\Python310\\lib\\site-packages\\pandas\\plotting\\_core.py:892\u001b[0m, in \u001b[0;36mPlotAccessor.__call__\u001b[1;34m(self, *args, **kwargs)\u001b[0m\n\u001b[0;32m    891\u001b[0m \u001b[39mdef\u001b[39;00m \u001b[39m__call__\u001b[39m(\u001b[39mself\u001b[39m, \u001b[39m*\u001b[39margs, \u001b[39m*\u001b[39m\u001b[39m*\u001b[39mkwargs):\n\u001b[1;32m--> 892\u001b[0m     plot_backend \u001b[39m=\u001b[39m _get_plot_backend(kwargs\u001b[39m.\u001b[39;49mpop(\u001b[39m\"\u001b[39;49m\u001b[39mbackend\u001b[39;49m\u001b[39m\"\u001b[39;49m, \u001b[39mNone\u001b[39;49;00m))\n\u001b[0;32m    894\u001b[0m     x, y, kind, kwargs \u001b[39m=\u001b[39m \u001b[39mself\u001b[39m\u001b[39m.\u001b[39m_get_call_args(\n\u001b[0;32m    895\u001b[0m         plot_backend\u001b[39m.\u001b[39m\u001b[39m__name__\u001b[39m, \u001b[39mself\u001b[39m\u001b[39m.\u001b[39m_parent, args, kwargs\n\u001b[0;32m    896\u001b[0m     )\n\u001b[0;32m    898\u001b[0m     kind \u001b[39m=\u001b[39m \u001b[39mself\u001b[39m\u001b[39m.\u001b[39m_kind_aliases\u001b[39m.\u001b[39mget(kind, kind)\n",
      "File \u001b[1;32mc:\\Users\\Акмира\\AppData\\Local\\Programs\\Python\\Python310\\lib\\site-packages\\pandas\\plotting\\_core.py:1849\u001b[0m, in \u001b[0;36m_get_plot_backend\u001b[1;34m(backend)\u001b[0m\n\u001b[0;32m   1846\u001b[0m \u001b[39mif\u001b[39;00m backend \u001b[39min\u001b[39;00m _backends:\n\u001b[0;32m   1847\u001b[0m     \u001b[39mreturn\u001b[39;00m _backends[backend]\n\u001b[1;32m-> 1849\u001b[0m module \u001b[39m=\u001b[39m _load_backend(backend)\n\u001b[0;32m   1850\u001b[0m _backends[backend] \u001b[39m=\u001b[39m module\n\u001b[0;32m   1851\u001b[0m \u001b[39mreturn\u001b[39;00m module\n",
      "File \u001b[1;32mc:\\Users\\Акмира\\AppData\\Local\\Programs\\Python\\Python310\\lib\\site-packages\\pandas\\plotting\\_core.py:1787\u001b[0m, in \u001b[0;36m_load_backend\u001b[1;34m(backend)\u001b[0m\n\u001b[0;32m   1785\u001b[0m         module \u001b[39m=\u001b[39m importlib\u001b[39m.\u001b[39mimport_module(\u001b[39m\"\u001b[39m\u001b[39mpandas.plotting._matplotlib\u001b[39m\u001b[39m\"\u001b[39m)\n\u001b[0;32m   1786\u001b[0m     \u001b[39mexcept\u001b[39;00m \u001b[39mImportError\u001b[39;00m:\n\u001b[1;32m-> 1787\u001b[0m         \u001b[39mraise\u001b[39;00m \u001b[39mImportError\u001b[39;00m(\n\u001b[0;32m   1788\u001b[0m             \u001b[39m\"\u001b[39m\u001b[39mmatplotlib is required for plotting when the \u001b[39m\u001b[39m\"\u001b[39m\n\u001b[0;32m   1789\u001b[0m             \u001b[39m'\u001b[39m\u001b[39mdefault backend \u001b[39m\u001b[39m\"\u001b[39m\u001b[39mmatplotlib\u001b[39m\u001b[39m\"\u001b[39m\u001b[39m is selected.\u001b[39m\u001b[39m'\u001b[39m\n\u001b[0;32m   1790\u001b[0m         ) \u001b[39mfrom\u001b[39;00m \u001b[39mNone\u001b[39m\n\u001b[0;32m   1791\u001b[0m     \u001b[39mreturn\u001b[39;00m module\n\u001b[0;32m   1793\u001b[0m found_backend \u001b[39m=\u001b[39m \u001b[39mFalse\u001b[39;00m\n",
      "\u001b[1;31mImportError\u001b[0m: matplotlib is required for plotting when the default backend \"matplotlib\" is selected."
     ]
    }
   ],
   "source": [
    "# print(df.describe())\n",
    "\n",
    "df.plot(x = 'Date', y = 'Open')"
   ]
  },
  {
   "cell_type": "code",
   "execution_count": 74,
   "metadata": {},
   "outputs": [
    {
     "ename": "ModuleNotFoundError",
     "evalue": "No module named 'matplotlib'",
     "output_type": "error",
     "traceback": [
      "\u001b[1;31m---------------------------------------------------------------------------\u001b[0m",
      "\u001b[1;31mModuleNotFoundError\u001b[0m                       Traceback (most recent call last)",
      "\u001b[1;32mc:\\Users\\Акмира\\OneDrive\\Документы\\GitHub\\ICT_2022\\1.ipynb Ячейка 15\u001b[0m in \u001b[0;36m<cell line: 1>\u001b[1;34m()\u001b[0m\n\u001b[1;32m----> <a href='vscode-notebook-cell:/c%3A/Users/%D0%90%D0%BA%D0%BC%D0%B8%D1%80%D0%B0/OneDrive/%D0%94%D0%BE%D0%BA%D1%83%D0%BC%D0%B5%D0%BD%D1%82%D1%8B/GitHub/ICT_2022/1.ipynb#X26sZmlsZQ%3D%3D?line=0'>1</a>\u001b[0m \u001b[39mimport\u001b[39;00m \u001b[39mmatplotlib\u001b[39;00m\n\u001b[0;32m      <a href='vscode-notebook-cell:/c%3A/Users/%D0%90%D0%BA%D0%BC%D0%B8%D1%80%D0%B0/OneDrive/%D0%94%D0%BE%D0%BA%D1%83%D0%BC%D0%B5%D0%BD%D1%82%D1%8B/GitHub/ICT_2022/1.ipynb#X26sZmlsZQ%3D%3D?line=1'>2</a>\u001b[0m df\u001b[39m.\u001b[39mplot(y \u001b[39m=\u001b[39m \u001b[39m'\u001b[39m\u001b[39mHigh\u001b[39m\u001b[39m'\u001b[39m)\n",
      "\u001b[1;31mModuleNotFoundError\u001b[0m: No module named 'matplotlib'"
     ]
    }
   ],
   "source": [
    "# import matplotlib\n",
    "# df.plot(y = 'High')"
   ]
  },
  {
   "cell_type": "code",
   "execution_count": 26,
   "metadata": {},
   "outputs": [
    {
     "name": "stdout",
     "output_type": "stream",
     "text": [
      "           PID  ST_NUM ST_NAME OWN_OCCUPIED  NUM_BEDROOMS NUM_BATH   SQ_M\n",
      "0  100001000.0   104.0  PUTNAM            Y           3.0        1  100.0\n"
     ]
    }
   ],
   "source": [
    "missing_values = ['na', '--']\n",
    "\n",
    "# print(df)\n",
    "df.dropna(inplace=True, subset = 'ST_NUM')\n",
    "print(df)"
   ]
  },
  {
   "cell_type": "code",
   "execution_count": 27,
   "metadata": {},
   "outputs": [
    {
     "name": "stdout",
     "output_type": "stream",
     "text": [
      "           PID  ST_NUM ST_NAME OWN_OCCUPIED  NUM_BEDROOMS NUM_BATH   SQ_M\n",
      "0  100001000.0   104.0  PUTNAM            Y           3.0        1  100.0\n",
      "3          NaN     NaN     NaN          NaN           NaN        1    NaN\n"
     ]
    }
   ],
   "source": [
    "df.loc[3, 'NUM_BATH'] = 1\n",
    "print(df)"
   ]
  },
  {
   "cell_type": "code",
   "execution_count": 42,
   "metadata": {},
   "outputs": [
    {
     "name": "stdout",
     "output_type": "stream",
     "text": [
      "            PID  ST_NUM     ST_NAME OWN_OCCUPIED NUM_BEDROOMS NUM_BATH   SQ_M\n",
      "0   100001000.0   104.0      PUTNAM            Y            3        1    100\n",
      "1   100002000.0   197.0   LEXINGTON            N            3      1.5     --\n",
      "2   100003000.0     0.0   LEXINGTON            N            0        1     85\n",
      "3   100004000.0   201.0    BERKELEY           12            1        0     70\n",
      "4           0.0   203.0    BERKELEY            Y            3        2    160\n",
      "5   100006000.0   207.0    BERKELEY            Y            0        1  80000\n",
      "6   100007000.0     0.0  WASHINGTON            0            2   HURLEY     95\n",
      "7   100008000.0   213.0     TREMONT            Y            1        1      0\n",
      "8   100009000.0   215.0     TREMONT            Y           na        2    180\n",
      "9   100009000.0   215.0     TREMONT            Y           na        2    180\n",
      "10  100009000.0   215.0     TREMONT            Y           na        2    180\n",
      "11  100002000.0   197.0   LEXINGTON            N            3      1.5     --\n"
     ]
    },
    {
     "ename": "TypeError",
     "evalue": "can only concatenate str (not \"int\") to str",
     "output_type": "error",
     "traceback": [
      "\u001b[1;31m---------------------------------------------------------------------------\u001b[0m",
      "\u001b[1;31mTypeError\u001b[0m                                 Traceback (most recent call last)",
      "\u001b[1;32mc:\\Users\\Акмира\\OneDrive\\Документы\\GitHub\\ICT_2022\\1.ipynb Ячейка 14\u001b[0m in \u001b[0;36m<cell line: 3>\u001b[1;34m()\u001b[0m\n\u001b[0;32m      <a href='vscode-notebook-cell:/c%3A/Users/%D0%90%D0%BA%D0%BC%D0%B8%D1%80%D0%B0/OneDrive/%D0%94%D0%BE%D0%BA%D1%83%D0%BC%D0%B5%D0%BD%D1%82%D1%8B/GitHub/ICT_2022/1.ipynb#X21sZmlsZQ%3D%3D?line=0'>1</a>\u001b[0m df\u001b[39m.\u001b[39mfillna(\u001b[39m0\u001b[39m, inplace\u001b[39m=\u001b[39m\u001b[39mTrue\u001b[39;00m)\n\u001b[0;32m      <a href='vscode-notebook-cell:/c%3A/Users/%D0%90%D0%BA%D0%BC%D0%B8%D1%80%D0%B0/OneDrive/%D0%94%D0%BE%D0%BA%D1%83%D0%BC%D0%B5%D0%BD%D1%82%D1%8B/GitHub/ICT_2022/1.ipynb#X21sZmlsZQ%3D%3D?line=1'>2</a>\u001b[0m \u001b[39mprint\u001b[39m(df)\n\u001b[1;32m----> <a href='vscode-notebook-cell:/c%3A/Users/%D0%90%D0%BA%D0%BC%D0%B8%D1%80%D0%B0/OneDrive/%D0%94%D0%BE%D0%BA%D1%83%D0%BC%D0%B5%D0%BD%D1%82%D1%8B/GitHub/ICT_2022/1.ipynb#X21sZmlsZQ%3D%3D?line=2'>3</a>\u001b[0m \u001b[39mprint\u001b[39m(df[\u001b[39m'\u001b[39;49m\u001b[39mNUM_BEDROOMS\u001b[39;49m\u001b[39m'\u001b[39;49m]\u001b[39m.\u001b[39;49mmean())\n",
      "File \u001b[1;32mc:\\Users\\Акмира\\AppData\\Local\\Programs\\Python\\Python310\\lib\\site-packages\\pandas\\core\\generic.py:11124\u001b[0m, in \u001b[0;36mNDFrame._add_numeric_operations.<locals>.mean\u001b[1;34m(self, axis, skipna, level, numeric_only, **kwargs)\u001b[0m\n\u001b[0;32m  11106\u001b[0m \u001b[39m@doc\u001b[39m(\n\u001b[0;32m  11107\u001b[0m     _num_doc,\n\u001b[0;32m  11108\u001b[0m     desc\u001b[39m=\u001b[39m\u001b[39m\"\u001b[39m\u001b[39mReturn the mean of the values over the requested axis.\u001b[39m\u001b[39m\"\u001b[39m,\n\u001b[1;32m   (...)\u001b[0m\n\u001b[0;32m  11122\u001b[0m     \u001b[39m*\u001b[39m\u001b[39m*\u001b[39mkwargs,\n\u001b[0;32m  11123\u001b[0m ):\n\u001b[1;32m> 11124\u001b[0m     \u001b[39mreturn\u001b[39;00m NDFrame\u001b[39m.\u001b[39mmean(\u001b[39mself\u001b[39m, axis, skipna, level, numeric_only, \u001b[39m*\u001b[39m\u001b[39m*\u001b[39mkwargs)\n",
      "File \u001b[1;32mc:\\Users\\Акмира\\AppData\\Local\\Programs\\Python\\Python310\\lib\\site-packages\\pandas\\core\\generic.py:10694\u001b[0m, in \u001b[0;36mNDFrame.mean\u001b[1;34m(self, axis, skipna, level, numeric_only, **kwargs)\u001b[0m\n\u001b[0;32m  10686\u001b[0m \u001b[39mdef\u001b[39;00m \u001b[39mmean\u001b[39m(\n\u001b[0;32m  10687\u001b[0m     \u001b[39mself\u001b[39m,\n\u001b[0;32m  10688\u001b[0m     axis: Axis \u001b[39m|\u001b[39m \u001b[39mNone\u001b[39;00m \u001b[39m|\u001b[39m lib\u001b[39m.\u001b[39mNoDefault \u001b[39m=\u001b[39m lib\u001b[39m.\u001b[39mno_default,\n\u001b[1;32m   (...)\u001b[0m\n\u001b[0;32m  10692\u001b[0m     \u001b[39m*\u001b[39m\u001b[39m*\u001b[39mkwargs,\n\u001b[0;32m  10693\u001b[0m ) \u001b[39m-\u001b[39m\u001b[39m>\u001b[39m Series \u001b[39m|\u001b[39m \u001b[39mfloat\u001b[39m:\n\u001b[1;32m> 10694\u001b[0m     \u001b[39mreturn\u001b[39;00m \u001b[39mself\u001b[39m\u001b[39m.\u001b[39m_stat_function(\n\u001b[0;32m  10695\u001b[0m         \u001b[39m\"\u001b[39m\u001b[39mmean\u001b[39m\u001b[39m\"\u001b[39m, nanops\u001b[39m.\u001b[39mnanmean, axis, skipna, level, numeric_only, \u001b[39m*\u001b[39m\u001b[39m*\u001b[39mkwargs\n\u001b[0;32m  10696\u001b[0m     )\n",
      "File \u001b[1;32mc:\\Users\\Акмира\\AppData\\Local\\Programs\\Python\\Python310\\lib\\site-packages\\pandas\\core\\generic.py:10646\u001b[0m, in \u001b[0;36mNDFrame._stat_function\u001b[1;34m(self, name, func, axis, skipna, level, numeric_only, **kwargs)\u001b[0m\n\u001b[0;32m  10636\u001b[0m     warnings\u001b[39m.\u001b[39mwarn(\n\u001b[0;32m  10637\u001b[0m         \u001b[39m\"\u001b[39m\u001b[39mUsing the level keyword in DataFrame and Series aggregations is \u001b[39m\u001b[39m\"\u001b[39m\n\u001b[0;32m  10638\u001b[0m         \u001b[39m\"\u001b[39m\u001b[39mdeprecated and will be removed in a future version. Use groupby \u001b[39m\u001b[39m\"\u001b[39m\n\u001b[1;32m   (...)\u001b[0m\n\u001b[0;32m  10641\u001b[0m         stacklevel\u001b[39m=\u001b[39mfind_stack_level(),\n\u001b[0;32m  10642\u001b[0m     )\n\u001b[0;32m  10643\u001b[0m     \u001b[39mreturn\u001b[39;00m \u001b[39mself\u001b[39m\u001b[39m.\u001b[39m_agg_by_level(\n\u001b[0;32m  10644\u001b[0m         name, axis\u001b[39m=\u001b[39maxis, level\u001b[39m=\u001b[39mlevel, skipna\u001b[39m=\u001b[39mskipna, numeric_only\u001b[39m=\u001b[39mnumeric_only\n\u001b[0;32m  10645\u001b[0m     )\n\u001b[1;32m> 10646\u001b[0m \u001b[39mreturn\u001b[39;00m \u001b[39mself\u001b[39;49m\u001b[39m.\u001b[39;49m_reduce(\n\u001b[0;32m  10647\u001b[0m     func, name\u001b[39m=\u001b[39;49mname, axis\u001b[39m=\u001b[39;49maxis, skipna\u001b[39m=\u001b[39;49mskipna, numeric_only\u001b[39m=\u001b[39;49mnumeric_only\n\u001b[0;32m  10648\u001b[0m )\n",
      "File \u001b[1;32mc:\\Users\\Акмира\\AppData\\Local\\Programs\\Python\\Python310\\lib\\site-packages\\pandas\\core\\series.py:4471\u001b[0m, in \u001b[0;36mSeries._reduce\u001b[1;34m(self, op, name, axis, skipna, numeric_only, filter_type, **kwds)\u001b[0m\n\u001b[0;32m   4467\u001b[0m     \u001b[39mraise\u001b[39;00m \u001b[39mNotImplementedError\u001b[39;00m(\n\u001b[0;32m   4468\u001b[0m         \u001b[39mf\u001b[39m\u001b[39m\"\u001b[39m\u001b[39mSeries.\u001b[39m\u001b[39m{\u001b[39;00mname\u001b[39m}\u001b[39;00m\u001b[39m does not implement \u001b[39m\u001b[39m{\u001b[39;00mkwd_name\u001b[39m}\u001b[39;00m\u001b[39m.\u001b[39m\u001b[39m\"\u001b[39m\n\u001b[0;32m   4469\u001b[0m     )\n\u001b[0;32m   4470\u001b[0m \u001b[39mwith\u001b[39;00m np\u001b[39m.\u001b[39merrstate(\u001b[39mall\u001b[39m\u001b[39m=\u001b[39m\u001b[39m\"\u001b[39m\u001b[39mignore\u001b[39m\u001b[39m\"\u001b[39m):\n\u001b[1;32m-> 4471\u001b[0m     \u001b[39mreturn\u001b[39;00m op(delegate, skipna\u001b[39m=\u001b[39mskipna, \u001b[39m*\u001b[39m\u001b[39m*\u001b[39mkwds)\n",
      "File \u001b[1;32mc:\\Users\\Акмира\\AppData\\Local\\Programs\\Python\\Python310\\lib\\site-packages\\pandas\\core\\nanops.py:93\u001b[0m, in \u001b[0;36mdisallow.__call__.<locals>._f\u001b[1;34m(*args, **kwargs)\u001b[0m\n\u001b[0;32m     91\u001b[0m \u001b[39mtry\u001b[39;00m:\n\u001b[0;32m     92\u001b[0m     \u001b[39mwith\u001b[39;00m np\u001b[39m.\u001b[39merrstate(invalid\u001b[39m=\u001b[39m\u001b[39m\"\u001b[39m\u001b[39mignore\u001b[39m\u001b[39m\"\u001b[39m):\n\u001b[1;32m---> 93\u001b[0m         \u001b[39mreturn\u001b[39;00m f(\u001b[39m*\u001b[39margs, \u001b[39m*\u001b[39m\u001b[39m*\u001b[39mkwargs)\n\u001b[0;32m     94\u001b[0m \u001b[39mexcept\u001b[39;00m \u001b[39mValueError\u001b[39;00m \u001b[39mas\u001b[39;00m e:\n\u001b[0;32m     95\u001b[0m     \u001b[39m# we want to transform an object array\u001b[39;00m\n\u001b[0;32m     96\u001b[0m     \u001b[39m# ValueError message to the more typical TypeError\u001b[39;00m\n\u001b[0;32m     97\u001b[0m     \u001b[39m# e.g. this is normally a disallowed function on\u001b[39;00m\n\u001b[0;32m     98\u001b[0m     \u001b[39m# object arrays that contain strings\u001b[39;00m\n\u001b[0;32m     99\u001b[0m     \u001b[39mif\u001b[39;00m is_object_dtype(args[\u001b[39m0\u001b[39m]):\n",
      "File \u001b[1;32mc:\\Users\\Акмира\\AppData\\Local\\Programs\\Python\\Python310\\lib\\site-packages\\pandas\\core\\nanops.py:155\u001b[0m, in \u001b[0;36mbottleneck_switch.__call__.<locals>.f\u001b[1;34m(values, axis, skipna, **kwds)\u001b[0m\n\u001b[0;32m    153\u001b[0m         result \u001b[39m=\u001b[39m alt(values, axis\u001b[39m=\u001b[39maxis, skipna\u001b[39m=\u001b[39mskipna, \u001b[39m*\u001b[39m\u001b[39m*\u001b[39mkwds)\n\u001b[0;32m    154\u001b[0m \u001b[39melse\u001b[39;00m:\n\u001b[1;32m--> 155\u001b[0m     result \u001b[39m=\u001b[39m alt(values, axis\u001b[39m=\u001b[39maxis, skipna\u001b[39m=\u001b[39mskipna, \u001b[39m*\u001b[39m\u001b[39m*\u001b[39mkwds)\n\u001b[0;32m    157\u001b[0m \u001b[39mreturn\u001b[39;00m result\n",
      "File \u001b[1;32mc:\\Users\\Акмира\\AppData\\Local\\Programs\\Python\\Python310\\lib\\site-packages\\pandas\\core\\nanops.py:410\u001b[0m, in \u001b[0;36m_datetimelike_compat.<locals>.new_func\u001b[1;34m(values, axis, skipna, mask, **kwargs)\u001b[0m\n\u001b[0;32m    407\u001b[0m \u001b[39mif\u001b[39;00m datetimelike \u001b[39mand\u001b[39;00m mask \u001b[39mis\u001b[39;00m \u001b[39mNone\u001b[39;00m:\n\u001b[0;32m    408\u001b[0m     mask \u001b[39m=\u001b[39m isna(values)\n\u001b[1;32m--> 410\u001b[0m result \u001b[39m=\u001b[39m func(values, axis\u001b[39m=\u001b[39maxis, skipna\u001b[39m=\u001b[39mskipna, mask\u001b[39m=\u001b[39mmask, \u001b[39m*\u001b[39m\u001b[39m*\u001b[39mkwargs)\n\u001b[0;32m    412\u001b[0m \u001b[39mif\u001b[39;00m datetimelike:\n\u001b[0;32m    413\u001b[0m     result \u001b[39m=\u001b[39m _wrap_results(result, orig_values\u001b[39m.\u001b[39mdtype, fill_value\u001b[39m=\u001b[39miNaT)\n",
      "File \u001b[1;32mc:\\Users\\Акмира\\AppData\\Local\\Programs\\Python\\Python310\\lib\\site-packages\\pandas\\core\\nanops.py:698\u001b[0m, in \u001b[0;36mnanmean\u001b[1;34m(values, axis, skipna, mask)\u001b[0m\n\u001b[0;32m    695\u001b[0m     dtype_count \u001b[39m=\u001b[39m dtype\n\u001b[0;32m    697\u001b[0m count \u001b[39m=\u001b[39m _get_counts(values\u001b[39m.\u001b[39mshape, mask, axis, dtype\u001b[39m=\u001b[39mdtype_count)\n\u001b[1;32m--> 698\u001b[0m the_sum \u001b[39m=\u001b[39m _ensure_numeric(values\u001b[39m.\u001b[39;49msum(axis, dtype\u001b[39m=\u001b[39;49mdtype_sum))\n\u001b[0;32m    700\u001b[0m \u001b[39mif\u001b[39;00m axis \u001b[39mis\u001b[39;00m \u001b[39mnot\u001b[39;00m \u001b[39mNone\u001b[39;00m \u001b[39mand\u001b[39;00m \u001b[39mgetattr\u001b[39m(the_sum, \u001b[39m\"\u001b[39m\u001b[39mndim\u001b[39m\u001b[39m\"\u001b[39m, \u001b[39mFalse\u001b[39;00m):\n\u001b[0;32m    701\u001b[0m     count \u001b[39m=\u001b[39m cast(np\u001b[39m.\u001b[39mndarray, count)\n",
      "File \u001b[1;32mc:\\Users\\Акмира\\AppData\\Local\\Programs\\Python\\Python310\\lib\\site-packages\\numpy\\core\\_methods.py:48\u001b[0m, in \u001b[0;36m_sum\u001b[1;34m(a, axis, dtype, out, keepdims, initial, where)\u001b[0m\n\u001b[0;32m     46\u001b[0m \u001b[39mdef\u001b[39;00m \u001b[39m_sum\u001b[39m(a, axis\u001b[39m=\u001b[39m\u001b[39mNone\u001b[39;00m, dtype\u001b[39m=\u001b[39m\u001b[39mNone\u001b[39;00m, out\u001b[39m=\u001b[39m\u001b[39mNone\u001b[39;00m, keepdims\u001b[39m=\u001b[39m\u001b[39mFalse\u001b[39;00m,\n\u001b[0;32m     47\u001b[0m          initial\u001b[39m=\u001b[39m_NoValue, where\u001b[39m=\u001b[39m\u001b[39mTrue\u001b[39;00m):\n\u001b[1;32m---> 48\u001b[0m     \u001b[39mreturn\u001b[39;00m umr_sum(a, axis, dtype, out, keepdims, initial, where)\n",
      "\u001b[1;31mTypeError\u001b[0m: can only concatenate str (not \"int\") to str"
     ]
    }
   ],
   "source": [
    "df.fillna(0, inplace=True)\n",
    "print(df)\n",
    "print(df['NUM_BEDROOMS'].mean())\n",
    "# df['NUM_BEDROOMS'].fillna(df['NUM_BEDROOMS'].mean(), inplace = True)\n",
    "# print(df)"
   ]
  },
  {
   "cell_type": "code",
   "execution_count": 36,
   "metadata": {},
   "outputs": [],
   "source": [
    "df['NUM_BEDROOMS'].fillna(method = 'bfill', inplace = True)"
   ]
  },
  {
   "cell_type": "code",
   "execution_count": 37,
   "metadata": {},
   "outputs": [
    {
     "name": "stdout",
     "output_type": "stream",
     "text": [
      "            PID  ST_NUM     ST_NAME OWN_OCCUPIED NUM_BEDROOMS NUM_BATH   SQ_M\n",
      "0   100001000.0   104.0      PUTNAM            Y            3        1    100\n",
      "1   100002000.0   197.0   LEXINGTON            N            3      1.5     --\n",
      "2   100003000.0     NaN   LEXINGTON            N            1        1     85\n",
      "3   100004000.0   201.0    BERKELEY           12            1      NaN     70\n",
      "4           NaN   203.0    BERKELEY            Y            3        2    160\n",
      "5   100006000.0   207.0    BERKELEY            Y            2        1  80000\n",
      "6   100007000.0     NaN  WASHINGTON          NaN            2   HURLEY     95\n",
      "7   100008000.0   213.0     TREMONT            Y            1        1    NaN\n",
      "8   100009000.0   215.0     TREMONT            Y           na        2    180\n",
      "9   100009000.0   215.0     TREMONT            Y           na        2    180\n",
      "10  100009000.0   215.0     TREMONT            Y           na        2    180\n",
      "11  100002000.0   197.0   LEXINGTON            N            3      1.5     --\n"
     ]
    }
   ],
   "source": [
    "print(df)"
   ]
  },
  {
   "cell_type": "code",
   "execution_count": 63,
   "metadata": {},
   "outputs": [
    {
     "name": "stdout",
     "output_type": "stream",
     "text": [
      "            PID  ST_NUM     ST_NAME OWN_OCCUPIED NUM_BEDROOMS NUM_BATH   SQ_M\n",
      "0   100001000.0   104.0      PUTNAM            Y            3        1    100\n",
      "1   100002000.0   197.0   LEXINGTON            N            3      1.5     --\n",
      "2   100003000.0     NaN   LEXINGTON            N          NaN        1     85\n",
      "3   100004000.0   201.0    BERKELEY           12            1      NaN     70\n",
      "4           NaN   203.0    BERKELEY            Y            3        2    160\n",
      "5   100006000.0   207.0    BERKELEY            Y          NaN        1  80000\n",
      "6   100007000.0     NaN  WASHINGTON          NaN            2   HURLEY     95\n",
      "7   100008000.0   213.0     TREMONT            Y            1        1    NaN\n",
      "8   100009000.0   215.0     TREMONT            Y           na        2    180\n",
      "9   100009000.0   215.0     TREMONT            Y           na        2    180\n",
      "10  100009000.0   215.0     TREMONT            Y           na        2    180\n",
      "11  100002000.0   197.0   LEXINGTON            N            3      1.5     --\n"
     ]
    }
   ],
   "source": [
    "df.drop(['PID'], axis = 1)\n",
    "print(df)\n"
   ]
  },
  {
   "cell_type": "code",
   "execution_count": 64,
   "metadata": {},
   "outputs": [
    {
     "name": "stdout",
     "output_type": "stream",
     "text": [
      "           PID  ST_NUM     ST_NAME OWN_OCCUPIED NUM_BEDROOMS NUM_BATH   SQ_M\n",
      "0  100001000.0   104.0      PUTNAM            Y            3        1    100\n",
      "1  100002000.0   197.0   LEXINGTON            N            3      1.5     --\n",
      "2  100003000.0     NaN   LEXINGTON            N          NaN        1     85\n",
      "3  100004000.0   201.0    BERKELEY           12            1      NaN     70\n",
      "4          NaN   203.0    BERKELEY            Y            3        2    160\n",
      "5  100006000.0   207.0    BERKELEY            Y          NaN        1  80000\n",
      "6  100007000.0     NaN  WASHINGTON          NaN            2   HURLEY     95\n",
      "7  100008000.0   213.0     TREMONT            Y            1        1    NaN\n",
      "8  100009000.0   215.0     TREMONT            Y           na        2    180\n"
     ]
    }
   ],
   "source": [
    "df.drop_duplicates(inplace = True)\n",
    "print(df)"
   ]
  }
 ],
 "metadata": {
  "kernelspec": {
   "display_name": "Python 3.10.2 64-bit",
   "language": "python",
   "name": "python3"
  },
  "language_info": {
   "codemirror_mode": {
    "name": "ipython",
    "version": 3
   },
   "file_extension": ".py",
   "mimetype": "text/x-python",
   "name": "python",
   "nbconvert_exporter": "python",
   "pygments_lexer": "ipython3",
   "version": "3.10.2"
  },
  "orig_nbformat": 4,
  "vscode": {
   "interpreter": {
    "hash": "03b254a122a29b5b6b2e2be093a3c4540ec601800921327b0325f2ff1dcb1ccb"
   }
  }
 },
 "nbformat": 4,
 "nbformat_minor": 2
}
