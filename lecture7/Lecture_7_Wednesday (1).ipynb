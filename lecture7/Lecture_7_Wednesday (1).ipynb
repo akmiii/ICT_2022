{
 "cells": [
  {
   "cell_type": "markdown",
   "metadata": {},
   "source": [
    "# Correction of practice 6"
   ]
  },
  {
   "cell_type": "code",
   "execution_count": null,
   "metadata": {},
   "outputs": [],
   "source": [
    "import requests\n",
    "from bs4 import BeautifulSoup"
   ]
  },
  {
   "cell_type": "code",
   "execution_count": null,
   "metadata": {
    "scrolled": false
   },
   "outputs": [],
   "source": [
    "headers = {'user-agent' : 'Mozilla/5.0 (Windows NT 10.0; Win64; x64; rv:106.0) Gecko/20100101 Firefox/106.0'}\n",
    "resp = requests.get('https://news.google.com/search?q=apple', headers = headers)\n",
    "print(resp.content)"
   ]
  },
  {
   "cell_type": "code",
   "execution_count": null,
   "metadata": {},
   "outputs": [],
   "source": [
    "soup = BeautifulSoup(resp.content)"
   ]
  },
  {
   "cell_type": "code",
   "execution_count": null,
   "metadata": {},
   "outputs": [],
   "source": [
    "print(soup.prettify())"
   ]
  },
  {
   "cell_type": "code",
   "execution_count": null,
   "metadata": {
    "scrolled": true
   },
   "outputs": [],
   "source": [
    "for i in soup.find_all('a', class_ = \"DY5T1d RZIKme\"):\n",
    "    print(i.text)"
   ]
  },
  {
   "cell_type": "code",
   "execution_count": null,
   "metadata": {},
   "outputs": [],
   "source": [
    "links = []\n",
    "for i in soup.find_all('a', class_ = \"DY5T1d RZIKme\"):\n",
    "    links.append(\"https://news.google.com\" + i['href'][1:])"
   ]
  },
  {
   "cell_type": "code",
   "execution_count": null,
   "metadata": {
    "scrolled": true
   },
   "outputs": [],
   "source": [
    "import datetime\n",
    "for i in soup.find_all('time', class_ = \"WW6dff uQIVzc Sksgp slhocf\"):\n",
    "    t = i['datetime']\n",
    "    t = datetime.datetime.strptime(t, \"%Y-%m-%dT%H:%M:%SZ\")\n",
    "    print(t)"
   ]
  },
  {
   "cell_type": "code",
   "execution_count": null,
   "metadata": {},
   "outputs": [],
   "source": [
    "print(links[0])\n",
    "r = requests.get(links[0], headers =headers)\n",
    "s = BeautifulSoup(r.content)\n",
    "print(s.prettify())"
   ]
  },
  {
   "cell_type": "code",
   "execution_count": null,
   "metadata": {},
   "outputs": [],
   "source": [
    "print(s.find('a', jsname = \"tljFtd\").text)"
   ]
  },
  {
   "cell_type": "markdown",
   "metadata": {},
   "source": [
    "# Lecture 7 : Data cleaning"
   ]
  },
  {
   "cell_type": "code",
   "execution_count": null,
   "metadata": {},
   "outputs": [],
   "source": [
    "#import\n",
    "import pandas as pd\n",
    "import numpy"
   ]
  },
  {
   "cell_type": "code",
   "execution_count": null,
   "metadata": {
    "scrolled": false
   },
   "outputs": [],
   "source": [
    "# Read csv file into a pandas dataframe\n",
    "df = pd.read_csv(r\"D:\\KBTU\\2022-2023\\Python Course\\Course\\Lecture\\Lecture_7\\csv_to_clean.csv\")\n",
    "print(df)"
   ]
  },
  {
   "cell_type": "markdown",
   "metadata": {},
   "source": [
    "## Finding missing values"
   ]
  },
  {
   "cell_type": "code",
   "execution_count": null,
   "metadata": {
    "scrolled": true
   },
   "outputs": [],
   "source": [
    "#Find the standard missing values isnull function\n",
    "print(df.isnull().sum().sum())"
   ]
  },
  {
   "cell_type": "code",
   "execution_count": null,
   "metadata": {},
   "outputs": [],
   "source": [
    "#Non standard missing values : na_values in the read_csv function\n",
    "#use of unique function to identify them\n",
    "missing_values= ['na', '--']\n",
    "df = pd.read_csv(r\"D:\\KBTU\\2022-2023\\Python Course\\Course\\Lecture\\Lecture_7\\csv_to_clean.csv\",\n",
    "                na_values = missing_values)\n",
    "print(df)\n",
    "print(df.isnull().sum().sum())"
   ]
  },
  {
   "cell_type": "code",
   "execution_count": null,
   "metadata": {
    "scrolled": true
   },
   "outputs": [],
   "source": [
    "#Unexpected format missing values : check if value can be int for example\n",
    "for index, lines in df.iterrows():\n",
    "    try:\n",
    "        a = int(lines['OWN_OCCUPIED'])\n",
    "        print(a)\n",
    "        df.iloc[3, 3] = np.nan\n",
    "    except:\n",
    "        pass\n"
   ]
  },
  {
   "cell_type": "code",
   "execution_count": null,
   "metadata": {},
   "outputs": [],
   "source": [
    "# a bit about try/except\n",
    "\n",
    "try:\n",
    "    while True:\n",
    "        continue\n",
    "except:\n",
    "    print('error')\n",
    "print('my code continue')"
   ]
  },
  {
   "cell_type": "code",
   "execution_count": null,
   "metadata": {
    "scrolled": false
   },
   "outputs": [],
   "source": [
    "#Check the sum of missing values\n",
    "print(df.isnull().sum())"
   ]
  },
  {
   "cell_type": "code",
   "execution_count": null,
   "metadata": {
    "scrolled": true
   },
   "outputs": [],
   "source": [
    "#YOUR TURN (15 minutes) => Then break\n",
    "#Find all missing values in the provided dataframe\n",
    "#Check all the null\n",
    "#Find the other types of missing values\n",
    "#There are '-', 'ERROR', wrong date, 'NaN', no data\n",
    "import pandas as pd\n",
    "import numpy as np\n",
    "missing_values= ['-', 'ERROR']\n",
    "df = pd.read_csv(r\"D:\\KBTU\\2022-2023\\Python Course\\Course\\Lecture\\Lecture_7\\Apple_price_to_clean.csv\",\n",
    "                na_values = missing_values)\n",
    "print(df.isnull().sum())\n",
    "\n",
    "for index, lines in df.iterrows():\n",
    "    try:\n",
    "        a = int(lines['Date'])\n",
    "        print(a)\n",
    "        df.loc[index, 'Date'] = np.nan\n",
    "    except:\n",
    "        pass\n",
    "print(df.head(20))"
   ]
  },
  {
   "cell_type": "markdown",
   "metadata": {},
   "source": [
    "## Replacing missing values"
   ]
  },
  {
   "cell_type": "code",
   "execution_count": null,
   "metadata": {},
   "outputs": [],
   "source": [
    "#reload df\n",
    "missing_values= ['na', '--']\n",
    "df = pd.read_csv(r\"D:\\KBTU\\2022-2023\\Python Course\\Course\\Lecture\\Lecture_7\\csv_to_clean.csv\",\n",
    "                na_values = missing_values)\n",
    "# print(df)"
   ]
  },
  {
   "cell_type": "code",
   "execution_count": null,
   "metadata": {},
   "outputs": [],
   "source": [
    "#delete lines with dropna with subset and inplace aeguments\n",
    "# df = df.dropna()\n",
    "# print(df)\n",
    "df.dropna(inplace = True, subset = 'ST_NUM')\n",
    "print(df)"
   ]
  },
  {
   "cell_type": "code",
   "execution_count": null,
   "metadata": {},
   "outputs": [],
   "source": [
    "# Location based replacement with the loc function\n",
    "df.loc[3, 'NUM_BATH'] = 1\n",
    "print(df)"
   ]
  },
  {
   "cell_type": "code",
   "execution_count": null,
   "metadata": {},
   "outputs": [],
   "source": [
    "# Replace missing values with a number (fillna() function with inplace arg)\n",
    "df.fillna(0, inplace = True)\n",
    "print(df)"
   ]
  },
  {
   "cell_type": "code",
   "execution_count": null,
   "metadata": {},
   "outputs": [],
   "source": [
    "#Replacing the missing values with a median \n",
    "#(calculate median and then use the replace with a number)\n",
    "# print(df)\n",
    "print(df['NUM_BEDROOMS'].mean())\n",
    "df['NUM_BEDROOMS'].fillna(df['NUM_BEDROOMS'].mean(), inplace = True)\n",
    "print(df)"
   ]
  },
  {
   "cell_type": "code",
   "execution_count": null,
   "metadata": {},
   "outputs": [],
   "source": [
    "#Replacing the values by the one before or after : df.fillna(method='bfill')\n",
    "df['NUM_BEDROOMS'].fillna(method = 'bfill', inplace = True)\n",
    "print(df)"
   ]
  },
  {
   "cell_type": "code",
   "execution_count": null,
   "metadata": {},
   "outputs": [],
   "source": [
    "#YOUR TURN 5 minutes => 12:27\n",
    "#replace all the missing values in the previous dataframe with the frontfilling (ffill) method \n",
    "#put 0 for the first ones\n",
    "df.fillna(method = 'ffill', inplace = True)\n",
    "df.fillna(0, inplace = True)"
   ]
  },
  {
   "cell_type": "markdown",
   "metadata": {},
   "source": [
    "## Removing useless data"
   ]
  },
  {
   "cell_type": "code",
   "execution_count": null,
   "metadata": {},
   "outputs": [],
   "source": [
    "#reload df\n",
    "import pandas as pd\n",
    "missing_values= ['na', '--']\n",
    "df = pd.read_csv(r\"D:\\KBTU\\2022-2023\\Python Course\\Course\\Lecture\\Lecture_7\\csv_to_clean.csv\",\n",
    "                na_values = missing_values)\n",
    "print(df)"
   ]
  },
  {
   "cell_type": "code",
   "execution_count": null,
   "metadata": {},
   "outputs": [],
   "source": [
    "#Use the drop() function with inplace and axis arg\n",
    "df.drop(['PID'], axis = 1, inplace = True)\n",
    "print(df)"
   ]
  },
  {
   "cell_type": "code",
   "execution_count": null,
   "metadata": {},
   "outputs": [],
   "source": [
    "#Use the drop duplicates to remove useless lines\n",
    "df.drop_duplicates(inplace = True)\n",
    "print(df)"
   ]
  },
  {
   "cell_type": "code",
   "execution_count": null,
   "metadata": {},
   "outputs": [],
   "source": [
    "#YOUR TURN 5 minutes\n",
    "#Drop all duplicates in your df\n",
    "#get number of rows\n",
    "#drop duplicates\n",
    "#get number of row again\n",
    "missing_values= ['-', 'ERROR']\n",
    "df = pd.read_csv(r\"D:\\KBTU\\2022-2023\\Python Course\\Course\\Lecture\\Lecture_7\\Apple_price_to_clean.csv\",\n",
    "                na_values = missing_values)\n",
    "print(df)\n",
    "df.drop_duplicates(inplace=True)\n",
    "print(df)"
   ]
  },
  {
   "cell_type": "markdown",
   "metadata": {},
   "source": [
    "## Outliers"
   ]
  },
  {
   "cell_type": "code",
   "execution_count": null,
   "metadata": {},
   "outputs": [],
   "source": [
    "#reload df\n",
    "import pandas as pd\n",
    "missing_values= ['na', '--']\n",
    "df = pd.read_csv(r\"D:\\KBTU\\2022-2023\\Python Course\\Course\\Lecture\\Lecture_7\\csv_to_clean.csv\",\n",
    "                na_values = missing_values)\n",
    "print(df)"
   ]
  },
  {
   "cell_type": "code",
   "execution_count": null,
   "metadata": {
    "scrolled": true
   },
   "outputs": [],
   "source": [
    "#With the describe method\n",
    "print(df.describe())"
   ]
  },
  {
   "cell_type": "code",
   "execution_count": null,
   "metadata": {
    "scrolled": false
   },
   "outputs": [],
   "source": [
    "# With the plot method\n",
    "df.plot(y = 'SQ_M')"
   ]
  },
  {
   "cell_type": "code",
   "execution_count": null,
   "metadata": {},
   "outputs": [],
   "source": [
    "#select the df in the range\n",
    "df = df[df['SQ_M'] < 10000]\n",
    "df.plot(y = 'SQ_M')"
   ]
  },
  {
   "cell_type": "code",
   "execution_count": 9,
   "metadata": {},
   "outputs": [
    {
     "name": "stdout",
     "output_type": "stream",
     "text": [
      "              Open         High          Low        Close    Adj Close  \\\n",
      "count  1759.000000  1760.000000  1759.000000  1757.000000  1760.000000   \n",
      "mean     73.558437    74.054901    73.226885    72.948631    71.805287   \n",
      "std      48.999702    48.561544    58.140202    49.780753    48.451877   \n",
      "min      22.500000    22.917500    22.367500  -470.599998    20.949606   \n",
      "25%      36.455000    36.788751    36.237501    36.570000    34.484875   \n",
      "50%      50.072498    50.385001    49.610001    50.119999    48.677069   \n",
      "75%     120.955002   122.625002   119.205002   120.959999   119.565588   \n",
      "max     500.099998   182.940002  1490.339996   182.009995   181.259918   \n",
      "\n",
      "             Volume  \n",
      "count  1.758000e+03  \n",
      "mean   1.325885e+08  \n",
      "std    2.770364e+08  \n",
      "min    4.100000e+07  \n",
      "25%    8.567892e+07  \n",
      "50%    1.093036e+08  \n",
      "75%    1.477417e+08  \n",
      "max    1.146192e+10  \n"
     ]
    }
   ],
   "source": [
    "#YOUR TURN 10 minutes\n",
    "#Find the outliers in your dataset and remove them\n",
    "import pandas as pd\n",
    "missing_values= ['-', 'ERROR']\n",
    "df = pd.read_csv(r\"D:\\KBTU\\2022-2023\\Python Course\\Course\\Lecture\\Lecture_7\\Apple_price_to_clean.csv\",\n",
    "                na_values = missing_values)\n",
    "df.drop_duplicates(inplace=True)\n",
    "df = df[df['High'] > 0]\n",
    "print(df.describe())"
   ]
  },
  {
   "cell_type": "code",
   "execution_count": 10,
   "metadata": {},
   "outputs": [
    {
     "data": {
      "text/plain": [
       "<AxesSubplot:xlabel='Date'>"
      ]
     },
     "execution_count": 10,
     "metadata": {},
     "output_type": "execute_result"
    },
    {
     "data": {
      "image/png": "[encoded data removed]",
      "text/plain": [
       "<Figure size 432x288 with 1 Axes>"
      ]
     },
     "metadata": {
      "needs_background": "light"
     },
     "output_type": "display_data"
    }
   ],
   "source": [
    "df.plot(x = 'Date', y = 'Low')"
   ]
  },
  {
   "cell_type": "code",
   "execution_count": 11,
   "metadata": {},
   "outputs": [
    {
     "data": {
      "text/plain": [
       "<AxesSubplot:xlabel='Date'>"
      ]
     },
     "execution_count": 11,
     "metadata": {},
     "output_type": "execute_result"
    },
    {
     "data": {
      "image/png": "[encoded data removed]",
      "text/plain": [
       "<Figure size 432x288 with 1 Axes>"
      ]
     },
     "metadata": {
      "needs_background": "light"
     },
     "output_type": "display_data"
    }
   ],
   "source": [
    "df = df[df['Low'] < 200]\n",
    "df.plot(x = 'Date', y = 'Low')"
   ]
  },
  {
   "cell_type": "code",
   "execution_count": 13,
   "metadata": {},
   "outputs": [
    {
     "data": {
      "text/plain": [
       "<AxesSubplot:xlabel='Date'>"
      ]
     },
     "execution_count": 13,
     "metadata": {},
     "output_type": "execute_result"
    },
    {
     "data": {
      "image/png": "[encoded data removed]",
      "text/plain": [
       "<Figure size 432x288 with 1 Axes>"
      ]
     },
     "metadata": {
      "needs_background": "light"
     },
     "output_type": "display_data"
    }
   ],
   "source": [
    "df = df[df['Open'] < 200]\n",
    "df.plot(x = 'Date', y = 'Open')"
   ]
  },
  {
   "cell_type": "code",
   "execution_count": null,
   "metadata": {},
   "outputs": [],
   "source": []
  }
 ],
 "metadata": {
  "kernelspec": {
   "display_name": "Python 3",
   "language": "python",
   "name": "python3"
  },
  "language_info": {
   "codemirror_mode": {
    "name": "ipython",
    "version": 3
   },
   "file_extension": ".py",
   "mimetype": "text/x-python",
   "name": "python",
   "nbconvert_exporter": "python",
   "pygments_lexer": "ipython3",
   "version": "3.8.3"
  }
 },
 "nbformat": 4,
 "nbformat_minor": 4
}
