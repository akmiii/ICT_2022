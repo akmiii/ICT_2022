{
 "cells": [
  {
   "cell_type": "code",
   "execution_count": 6,
   "metadata": {},
   "outputs": [],
   "source": [
    "import numpy as np\n",
    "import sklearn.linear_model as skmod\n",
    "import matplotlib.pyplot as plt\n"
   ]
  },
  {
   "cell_type": "code",
   "execution_count": 7,
   "metadata": {},
   "outputs": [
    {
     "name": "stdout",
     "output_type": "stream",
     "text": [
      "[0, 1, 0, 1, 1, 0, 0, 1, 0, 0, 1]\n"
     ]
    }
   ],
   "source": [
    "#my turn\n",
    "hours_homework = [1, 10, 3, 20, 32, 6, 1, 9, 2, 10, 5]\n",
    "sucess_exam = ['fail', 'pass','fail','pass','pass','fail','fail','pass','fail', 'fail', 'pass']\n",
    "\n",
    "exam_code = []\n",
    "for i in sucess_exam:\n",
    "    if i == 'fail':\n",
    "        exam_code.append(0)\n",
    "    if i == 'pass':\n",
    "        exam_code.append(1)\n",
    "print(exam_code)\n",
    "    "
   ]
  },
  {
   "cell_type": "code",
   "execution_count": 8,
   "metadata": {},
   "outputs": [
    {
     "data": {
      "text/plain": [
       "<matplotlib.collections.PathCollection at 0x22663926560>"
      ]
     },
     "execution_count": 8,
     "metadata": {},
     "output_type": "execute_result"
    },
    {
     "data": {
      "image/png": "[encoded data removed]",
      "text/plain": [
       "<Figure size 640x480 with 1 Axes>"
      ]
     },
     "metadata": {},
     "output_type": "display_data"
    }
   ],
   "source": [
    "plt.scatter(hours_homework, exam_code)"
   ]
  },
  {
   "cell_type": "code",
   "execution_count": 9,
   "metadata": {},
   "outputs": [
    {
     "name": "stdout",
     "output_type": "stream",
     "text": [
      "[[ 1]\n",
      " [10]\n",
      " [ 3]\n",
      " [20]\n",
      " [32]\n",
      " [ 6]\n",
      " [ 1]\n",
      " [ 9]\n",
      " [ 2]\n",
      " [10]\n",
      " [ 5]]\n",
      "[0 1 0 1 1 0 0 1 0 0 1]\n"
     ]
    }
   ],
   "source": [
    "arr_hours = np.array(hours_homework).reshape(-1, 1)\n",
    "arr_exam = np.array(exam_code)\n",
    "\n",
    "print(arr_hours)\n",
    "print(arr_exam.ravel())"
   ]
  },
  {
   "cell_type": "code",
   "execution_count": 11,
   "metadata": {},
   "outputs": [
    {
     "name": "stdout",
     "output_type": "stream",
     "text": [
      "0.8181818181818182\n"
     ]
    }
   ],
   "source": [
    "model = skmod.LogisticRegression()\n",
    "model = model.fit(arr_hours, arr_exam)\n",
    "\n",
    "print(model.score(arr_hours, arr_exam))\n"
   ]
  },
  {
   "cell_type": "code",
   "execution_count": 14,
   "metadata": {},
   "outputs": [
    {
     "name": "stdout",
     "output_type": "stream",
     "text": [
      "[[0.47363896 0.52636104]]\n"
     ]
    }
   ],
   "source": [
    "\n",
    "print(model.predict_proba(np.array([[8]])))"
   ]
  },
  {
   "cell_type": "code",
   "execution_count": null,
   "metadata": {},
   "outputs": [],
   "source": []
  }
 ],
 "metadata": {
  "kernelspec": {
   "display_name": "Python 3.10.2 64-bit",
   "language": "python",
   "name": "python3"
  },
  "language_info": {
   "codemirror_mode": {
    "name": "ipython",
    "version": 3
   },
   "file_extension": ".py",
   "mimetype": "text/x-python",
   "name": "python",
   "nbconvert_exporter": "python",
   "pygments_lexer": "ipython3",
   "version": "3.10.2"
  },
  "orig_nbformat": 4,
  "vscode": {
   "interpreter": {
    "hash": "03b254a122a29b5b6b2e2be093a3c4540ec601800921327b0325f2ff1dcb1ccb"
   }
  }
 },
 "nbformat": 4,
 "nbformat_minor": 2
}
