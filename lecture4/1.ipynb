{
 "cells": [
  {
   "cell_type": "code",
   "execution_count": 1,
   "metadata": {},
   "outputs": [
    {
     "name": "stdout",
     "output_type": "stream",
     "text": [
      "2.28.1\n"
     ]
    }
   ],
   "source": [
    "import requests\n",
    "print(requests.__version__)"
   ]
  },
  {
   "cell_type": "code",
   "execution_count": 3,
   "metadata": {},
   "outputs": [
    {
     "name": "stdout",
     "output_type": "stream",
     "text": [
      "<Response [200]>\n",
      "{\"results\":[{\"gender\":\"male\",\"name\":{\"title\":\"Mr\",\"first\":\"Albert\",\"last\":\"Wade\"},\"location\":{\"street\":{\"number\":7051,\"name\":\"Groveland Terrace\"},\"city\":\"Corpus Christi\",\"state\":\"Maine\",\"country\":\"United States\",\"postcode\":91696,\"coordinates\":{\"latitude\":\"83.1834\",\"longitude\":\"-134.8484\"},\"timezone\":{\"offset\":\"-11:00\",\"description\":\"Midway Island, Samoa\"}},\"email\":\"albert.wade@example.com\",\"login\":{\"uuid\":\"0e1b535e-4eac-47b2-9057-3ec96833ff98\",\"username\":\"goldenkoala292\",\"password\":\"123789\",\"salt\":\"r3PVEUjL\",\"md5\":\"dd841e4cc9eb6bfae29362fcb3423c83\",\"sha1\":\"9e54a8be842d4b3eb91346654e6853794415667d\",\"sha256\":\"a4a5b3bfb83668964652e224937ea4852bbd41f2c17cf3177439aab074813ebc\"},\"dob\":{\"date\":\"1997-05-04T23:45:47.155Z\",\"age\":25},\"registered\":{\"date\":\"2017-11-05T17:55:21.840Z\",\"age\":4},\"phone\":\"(551) 399-6589\",\"cell\":\"(351) 445-3813\",\"id\":{\"name\":\"SSN\",\"value\":\"544-17-0151\"},\"picture\":{\"large\":\"https://randomuser.me/api/portraits/men/61.jpg\",\"medium\":\"https://randomuser.me/api/portraits/med/men/61.jpg\",\"thumbnail\":\"https://randomuser.me/api/portraits/thumb/men/61.jpg\"},\"nat\":\"US\"}],\"info\":{\"seed\":\"0ac10dcabc67acae\",\"results\":1,\"page\":1,\"version\":\"1.4\"}}\n"
     ]
    }
   ],
   "source": [
    "response = requests.get(\"http://randomuser.me/api/\")\n",
    "print(response)\n",
    "print(response.text)"
   ]
  },
  {
   "cell_type": "code",
   "execution_count": 6,
   "metadata": {},
   "outputs": [
    {
     "name": "stdout",
     "output_type": "stream",
     "text": [
      "[{\"id\":\"MTgwMTczNw\",\"url\":\"https://cdn2.thecatapi.com/images/MTgwMTczNw.jpg\",\"width\":717,\"height\":960}]\n"
     ]
    }
   ],
   "source": [
    "response = requests.get(\"https://api.thecatapi.com/v1/images/search\")\n",
    "print(response.text)"
   ]
  },
  {
   "cell_type": "code",
   "execution_count": 1,
   "metadata": {},
   "outputs": [
    {
     "name": "stdout",
     "output_type": "stream",
     "text": [
      "{\"results\":[{\"gender\":\"male\",\"name\":{\"title\":\"Mr\",\"first\":\"Charly\",\"last\":\"Robert\"},\"location\":{\"street\":{\"number\":6628,\"name\":\"Rue Duquesne\"},\"city\":\"Asnières-sur-Seine\",\"state\":\"Rhône\",\"country\":\"France\",\"postcode\":71913,\"coordinates\":{\"latitude\":\"0.1649\",\"longitude\":\"-124.8087\"},\"timezone\":{\"offset\":\"+11:00\",\"description\":\"Magadan, Solomon Islands, New Caledonia\"}},\"email\":\"charly.robert@example.com\",\"login\":{\"uuid\":\"dfae1cb2-d905-478c-bb6e-7ed053ce4747\",\"username\":\"silvergorilla894\",\"password\":\"jenny\",\"salt\":\"iYKcvDHV\",\"md5\":\"6fcee88dfd01610ea91d7cb837675881\",\"sha1\":\"2407c9360f1a0fdd0abb9064aa4f05fdf55e35f6\",\"sha256\":\"af8e1d0dd8eb98bfeb5d5c2c459929d20a29b1e26dd7c54ab3d456231b032426\"},\"dob\":{\"date\":\"1971-03-20T16:51:56.395Z\",\"age\":51},\"registered\":{\"date\":\"2019-12-30T05:29:00.413Z\",\"age\":2},\"phone\":\"01-32-78-24-24\",\"cell\":\"06-66-63-29-51\",\"id\":{\"name\":\"INSEE\",\"value\":\"1710220564012 80\"},\"picture\":{\"large\":\"https://randomuser.me/api/portraits/men/83.jpg\",\"medium\":\"https://randomuser.me/api/portraits/med/men/83.jpg\",\"thumbnail\":\"https://randomuser.me/api/portraits/thumb/men/83.jpg\"},\"nat\":\"FR\"}],\"info\":{\"seed\":\"f5d91a003c5da7fb\",\"results\":1,\"page\":1,\"version\":\"1.4\"}}\n"
     ]
    }
   ],
   "source": [
    "# YOUR TURN\n",
    "# Use the api for rendomuser.me to generat only male from nat : 'FR'\n",
    "# 10 minutes\n",
    "import requests\n",
    "url = \"https://randomuser.me/api?gender=male&nat=FR\"\n",
    "resp = requests.get(url)\n",
    "print(resp.text)"
   ]
  },
  {
   "cell_type": "code",
   "execution_count": null,
   "metadata": {},
   "outputs": [],
   "source": []
  }
 ],
 "metadata": {
  "kernelspec": {
   "display_name": "Python 3.10.2 64-bit (system)",
   "language": "python",
   "name": "python3"
  },
  "language_info": {
   "codemirror_mode": {
    "name": "ipython",
    "version": 3
   },
   "file_extension": ".py",
   "mimetype": "text/x-python",
   "name": "python",
   "nbconvert_exporter": "python",
   "pygments_lexer": "ipython3",
   "version": "3.10.2"
  },
  "orig_nbformat": 4,
  "vscode": {
   "interpreter": {
    "hash": "03b254a122a29b5b6b2e2be093a3c4540ec601800921327b0325f2ff1dcb1ccb"
   }
  }
 },
 "nbformat": 4,
 "nbformat_minor": 2
}
