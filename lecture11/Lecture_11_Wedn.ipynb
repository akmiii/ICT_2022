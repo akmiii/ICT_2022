{
 "cells": [
  {
   "cell_type": "markdown",
   "metadata": {},
   "source": [
    "# Correction of practice 10"
   ]
  },
  {
   "cell_type": "code",
   "execution_count": 1,
   "metadata": {},
   "outputs": [],
   "source": [
    "import numpy as np\n",
    "import sklearn.linear_model as skmod"
   ]
  },
  {
   "cell_type": "code",
   "execution_count": 6,
   "metadata": {
    "scrolled": true
   },
   "outputs": [
    {
     "name": "stdout",
     "output_type": "stream",
     "text": [
      "[[ 6]\n",
      " [10]\n",
      " [ 2]\n",
      " [ 3]\n",
      " [ 4]\n",
      " [ 0]\n",
      " [ 7]\n",
      " [ 8]\n",
      " [ 9]\n",
      " [ 1]]\n",
      "[[130]\n",
      " [ 21]\n",
      " [ 43]\n",
      " [ 76]\n",
      " [105]\n",
      " [  3]\n",
      " [167]\n",
      " [162]\n",
      " [ 91]\n",
      " [ 15]]\n",
      "[[ 36]\n",
      " [100]\n",
      " [  4]\n",
      " [  9]\n",
      " [ 16]\n",
      " [  0]\n",
      " [ 49]\n",
      " [ 64]\n",
      " [ 81]\n",
      " [  1]]\n",
      "[[ 216]\n",
      " [1000]\n",
      " [   8]\n",
      " [  27]\n",
      " [  64]\n",
      " [   0]\n",
      " [ 343]\n",
      " [ 512]\n",
      " [ 729]\n",
      " [   1]]\n"
     ]
    }
   ],
   "source": [
    "x1 = [6, 10, 2, 3, 4, 0, 7, 8, 9, 1]\n",
    "y = [130, 21, 43, 76, 105, 3, 167, 162, 91, 15]\n",
    "arr_x1 = np.array(x1).reshape(-1,1)\n",
    "print(arr_x1)\n",
    "arr_y = np.array(y).reshape(-1,1)\n",
    "print(arr_y)\n",
    "arr_x2 = arr_x1**2\n",
    "arr_x3 = arr_x1**3\n",
    "print(arr_x2)\n",
    "print(arr_x3)"
   ]
  },
  {
   "cell_type": "code",
   "execution_count": 18,
   "metadata": {
    "scrolled": true
   },
   "outputs": [
    {
     "name": "stdout",
     "output_type": "stream",
     "text": [
      "Eq: 8.71*x + 37.75\n",
      "score is : 0.26\n"
     ]
    }
   ],
   "source": [
    "model = skmod.LinearRegression()\n",
    "model = model.fit(arr_x1, arr_y)\n",
    "print(\"Eq: {:.2f}*x + {:.2f}\".format(model.coef_[0][0], model.intercept_[0]) )\n",
    "print(\"score is : {:.2f}\".format(model.score(arr_x1, arr_y)))"
   ]
  },
  {
   "cell_type": "code",
   "execution_count": 19,
   "metadata": {},
   "outputs": [
    {
     "name": "stdout",
     "output_type": "stream",
     "text": [
      "Eq: 56.77*x + -4.81*x**2 + -29.53\n",
      "score is : 0.79\n"
     ]
    }
   ],
   "source": [
    "#degree2\n",
    "arr_x12 = np.hstack([arr_x1, arr_x2])\n",
    "model2 = skmod.LinearRegression().fit(arr_x12, arr_y)\n",
    "print(\"Eq: {:.2f}*x + {:.2f}*x**2 + {:.2f}\".format(model2.coef_[0][0],\n",
    "                                                   model2.coef_[0][1], \n",
    "                                                   model2.intercept_[0]))\n",
    "print(\"score is : {:.2f}\".format(model2.score(arr_x12, arr_y)))"
   ]
  },
  {
   "cell_type": "code",
   "execution_count": 20,
   "metadata": {},
   "outputs": [
    {
     "name": "stdout",
     "output_type": "stream",
     "text": [
      "Eq: 1.47*x + 9.70*x**2 +-0.97*x**3 + 5.27\n",
      "score is : 0.96\n"
     ]
    }
   ],
   "source": [
    "#degree3\n",
    "arr_x123 = np.hstack([arr_x1, arr_x2, arr_x3])\n",
    "model3 = skmod.LinearRegression().fit(arr_x123, arr_y)\n",
    "print(\"Eq: {:.2f}*x + {:.2f}*x**2 +{:.2f}*x**3 + {:.2f}\".format(\n",
    "                                                    model3.coef_[0][0],\n",
    "                                                   model3.coef_[0][1],\n",
    "                                                   model3.coef_[0][2],\n",
    "                                                   model3.intercept_[0]))\n",
    "print(\"score is : {:.2f}\".format(model3.score(arr_x123, arr_y)))"
   ]
  },
  {
   "cell_type": "code",
   "execution_count": 32,
   "metadata": {},
   "outputs": [
    {
     "data": {
      "image/png": "[encoded data removed]",
      "text/plain": [
       "<Figure size 432x288 with 1 Axes>"
      ]
     },
     "metadata": {
      "needs_background": "light"
     },
     "output_type": "display_data"
    }
   ],
   "source": [
    "import matplotlib.pyplot as plt\n",
    "plt.scatter(arr_x1, arr_y)\n",
    "plt.plot([0,10], model.predict(np.array([[0], [10]])))\n",
    "x_for_plot = np.arange(0,10,0.1).reshape(-1,1) #like range\n",
    "x2_for_plot = x_for_plot**2\n",
    "plt.plot(x_for_plot, model2.predict(np.hstack([x_for_plot, x2_for_plot])))\n",
    "x3_for_plot = x_for_plot**3\n",
    "plt.plot(x_for_plot, model3.predict(np.hstack([x_for_plot, x2_for_plot, x3_for_plot])))\n",
    "plt.show()"
   ]
  },
  {
   "cell_type": "markdown",
   "metadata": {},
   "source": [
    "# Lecture 11: Machine Learning III"
   ]
  },
  {
   "cell_type": "code",
   "execution_count": 33,
   "metadata": {},
   "outputs": [],
   "source": [
    "#import some package\n",
    "import numpy as np\n",
    "import sklearn.linear_model as skmod\n",
    "import sklearn.preprocessing as skprepro\n",
    "import sklearn.model_selection as sksel\n",
    "import matplotlib.pyplot as plt"
   ]
  },
  {
   "cell_type": "markdown",
   "metadata": {},
   "source": [
    "## The polynomial features object"
   ]
  },
  {
   "cell_type": "code",
   "execution_count": 35,
   "metadata": {},
   "outputs": [
    {
     "name": "stdout",
     "output_type": "stream",
     "text": [
      "[[ 6]\n",
      " [10]\n",
      " [ 2]\n",
      " [ 3]\n",
      " [ 4]\n",
      " [ 0]\n",
      " [ 7]\n",
      " [ 8]\n",
      " [ 9]\n",
      " [ 1]]\n"
     ]
    }
   ],
   "source": [
    "#Create data and reshape it\n",
    "x1 = [6, 10, 2, 3, 4, 0, 7, 8, 9, 1]\n",
    "arr_x1 = np.array(x1).reshape(-1,1)\n",
    "print(arr_x1)"
   ]
  },
  {
   "cell_type": "code",
   "execution_count": 46,
   "metadata": {},
   "outputs": [],
   "source": [
    "#Create the polynomial feature object from the preprocessing module\n",
    "#PolynomialFeatures() function\n",
    "#choose the degree and don't include bias\n",
    "poly2 = skprepro.PolynomialFeatures(degree = 2, include_bias = False)"
   ]
  },
  {
   "cell_type": "code",
   "execution_count": 47,
   "metadata": {
    "scrolled": false
   },
   "outputs": [
    {
     "name": "stdout",
     "output_type": "stream",
     "text": [
      "[[  6.  36.]\n",
      " [ 10. 100.]\n",
      " [  2.   4.]\n",
      " [  3.   9.]\n",
      " [  4.  16.]\n",
      " [  0.   0.]\n",
      " [  7.  49.]\n",
      " [  8.  64.]\n",
      " [  9.  81.]\n",
      " [  1.   1.]]\n"
     ]
    }
   ],
   "source": [
    "#Transform your data into fetaures of degree two, fit_transform() function\n",
    "arr_x_poly = poly2.fit_transform(arr_x)\n",
    "print(arr_x_poly)"
   ]
  },
  {
   "cell_type": "code",
   "execution_count": 51,
   "metadata": {},
   "outputs": [
    {
     "name": "stdout",
     "output_type": "stream",
     "text": [
      "[[ 4.64288632e+01 -8.12079635e+01  6.74485405e+01 -2.38710248e+01\n",
      "   4.20411268e+00 -3.74085602e-01  1.49834019e-02 -1.72233273e-04]]\n"
     ]
    }
   ],
   "source": [
    "#Your turn (10 minutes)\n",
    "#From the data of practice, make a polynomial regression of degree 8\n",
    "#print the coef of the model\n",
    "#degree2\n",
    "# arr_x12 = np.hstack([arr_x1, arr_x2]) #replace this line\n",
    "#create polynomial object\n",
    "poly8 = skprepro.PolynomialFeatures(8, include_bias = False)\n",
    "#model:\n",
    "model = skmod.LinearRegression().fit(poly8.fit_transform(arr_x1), arr_y)\n",
    "#print coef\n",
    "print(model.coef_)"
   ]
  },
  {
   "cell_type": "markdown",
   "metadata": {},
   "source": [
    "## Train and test set"
   ]
  },
  {
   "cell_type": "code",
   "execution_count": 70,
   "metadata": {},
   "outputs": [
    {
     "data": {
      "image/png": "[encoded data removed]",
      "text/plain": [
       "<Figure size 432x288 with 1 Axes>"
      ]
     },
     "metadata": {
      "needs_background": "light"
     },
     "output_type": "display_data"
    }
   ],
   "source": [
    "#let's create data, you can check this code at home\n",
    "data_x = np.random.normal(9, 4, 100)\n",
    "data_y = np.random.randint(70,130, size = (len(data_x)))/100*(data_x*data_x*8 + 2*data_x + 5)\n",
    "plt.scatter(data_x, data_y)\n",
    "data_x = data_x.reshape(-1,1)\n",
    "data_y = data_y.reshape(-1,1)\n",
    "# print(data_x)\n",
    "# print(data_y)"
   ]
  },
  {
   "cell_type": "code",
   "execution_count": 125,
   "metadata": {},
   "outputs": [
    {
     "data": {
      "text/plain": [
       "<matplotlib.collections.PathCollection at 0x19378189a90>"
      ]
     },
     "execution_count": 125,
     "metadata": {},
     "output_type": "execute_result"
    },
    {
     "data": {
      "image/png": "[encoded data removed]",
      "text/plain": [
       "<Figure size 432x288 with 1 Axes>"
      ]
     },
     "metadata": {
      "needs_background": "light"
     },
     "output_type": "display_data"
    }
   ],
   "source": [
    "#Let's keep 20 % of our data aside\n",
    "data_x_train = data_x[:80]\n",
    "data_x_test = data_x[80:]\n",
    "data_y_train = data_y[:80]\n",
    "data_y_test = data_y[80:]\n",
    "plt.scatter(data_x_train, data_y_train)\n",
    "plt.scatter(data_x_test, data_y_test)"
   ]
  },
  {
   "cell_type": "code",
   "execution_count": 133,
   "metadata": {
    "scrolled": true
   },
   "outputs": [
    {
     "data": {
      "text/plain": [
       "<matplotlib.collections.PathCollection at 0x1937834efd0>"
      ]
     },
     "execution_count": 133,
     "metadata": {},
     "output_type": "execute_result"
    },
    {
     "data": {
      "image/png": "[encoded data removed]",
      "text/plain": [
       "<Figure size 432x288 with 1 Axes>"
      ]
     },
     "metadata": {
      "needs_background": "light"
     },
     "output_type": "display_data"
    }
   ],
   "source": [
    "#choose a test and train set with scikit-learn:\n",
    "#import sklearn.model_selection and use the train_test_split() function\n",
    "#The order is train/test, train/test\n",
    "import sklearn.model_selection as sksel\n",
    "data_x_train, data_x_test, data_y_train, data_y_test = sksel.train_test_split(data_x, \n",
    "                                               data_y, \n",
    "                                               train_size = 0.75, \n",
    "                                               shuffle = True)\n",
    "\n",
    "plt.scatter(data_x_train, data_y_train)\n",
    "plt.scatter(data_x_test, data_y_test)"
   ]
  },
  {
   "cell_type": "code",
   "execution_count": 134,
   "metadata": {
    "scrolled": true
   },
   "outputs": [],
   "source": [
    "#Let's use the Polynomial transform of the sklearn.preprocessing module\n",
    "poly2 = skprepro.PolynomialFeatures(2, include_bias = False)\n",
    "data_x_train_poly2 = poly2.fit_transform(data_x_train)\n",
    "data_x_test_poly2 = poly2.fit_transform(data_x_test)"
   ]
  },
  {
   "cell_type": "code",
   "execution_count": 135,
   "metadata": {},
   "outputs": [],
   "source": [
    "#let's make our regression of degree 2\n",
    "model2 = skmod.LinearRegression().fit(data_x_train_poly2, data_y_train)"
   ]
  },
  {
   "cell_type": "code",
   "execution_count": 136,
   "metadata": {},
   "outputs": [
    {
     "data": {
      "text/plain": [
       "[<matplotlib.lines.Line2D at 0x193783c7b50>]"
      ]
     },
     "execution_count": 136,
     "metadata": {},
     "output_type": "execute_result"
    },
    {
     "data": {
      "image/png": "[encoded data removed]",
      "text/plain": [
       "<Figure size 432x288 with 1 Axes>"
      ]
     },
     "metadata": {
      "needs_background": "light"
     },
     "output_type": "display_data"
    }
   ],
   "source": [
    "#Let's plot our result\n",
    "plt.scatter(data_x_train, data_y_train)\n",
    "plt.scatter(data_x_test, data_y_test)\n",
    "plt.plot(np.arange(0,18,0.1), model2.predict(poly2.fit_transform(np.arange(0,18,0.1).reshape(-1,1))))"
   ]
  },
  {
   "cell_type": "code",
   "execution_count": 137,
   "metadata": {},
   "outputs": [
    {
     "data": {
      "text/plain": [
       "[<matplotlib.lines.Line2D at 0x19378448310>]"
      ]
     },
     "execution_count": 137,
     "metadata": {},
     "output_type": "execute_result"
    },
    {
     "data": {
      "image/png": "[encoded data removed]",
      "text/plain": [
       "<Figure size 432x288 with 1 Axes>"
      ]
     },
     "metadata": {
      "needs_background": "light"
     },
     "output_type": "display_data"
    }
   ],
   "source": [
    "#Let's do for all regression for degree 8\n",
    "poly8 = skprepro.PolynomialFeatures(8, include_bias = False)\n",
    "data_x_train_poly8 = poly8.fit_transform(data_x_train)\n",
    "data_x_test_poly8 = poly8.fit_transform(data_x_test)\n",
    "model8 = skmod.LinearRegression().fit(data_x_train_poly8, data_y_train)\n",
    "plt.scatter(data_x_train, data_y_train)\n",
    "plt.scatter(data_x_test, data_y_test)\n",
    "plt.plot(np.arange(0,18,0.1), model2.predict(poly2.fit_transform(np.arange(0,18,0.1).reshape(-1,1))))\n",
    "plt.plot(np.arange(0,18,0.1), model8.predict(poly8.fit_transform(np.arange(0,18,0.1).reshape(-1,1))))"
   ]
  },
  {
   "cell_type": "code",
   "execution_count": 138,
   "metadata": {},
   "outputs": [
    {
     "name": "stdout",
     "output_type": "stream",
     "text": [
      "Training : 0.9377592005471239\n",
      "Testing : 0.9463538961056043\n",
      "--------------------\n",
      "Training : 0.949752731399437\n",
      "Testing : 0.9410801693742481\n"
     ]
    }
   ],
   "source": [
    "#Result of our model of the training set: the score function \n",
    "#(1 = perfect fitting, 0 = no fitting at all)\n",
    "print(\"Training :\", model2.score(data_x_train_poly2, data_y_train))\n",
    "print(\"Testing :\", model2.score(data_x_test_poly2, data_y_test))\n",
    "print('-'*20)\n",
    "print(\"Training :\", model8.score(data_x_train_poly8, data_y_train))\n",
    "print(\"Testing :\", model8.score(data_x_test_poly8, data_y_test))"
   ]
  },
  {
   "cell_type": "code",
   "execution_count": 139,
   "metadata": {},
   "outputs": [
    {
     "data": {
      "text/plain": [
       "'\\nResult of several runs\\n\\n'"
      ]
     },
     "execution_count": 139,
     "metadata": {},
     "output_type": "execute_result"
    }
   ],
   "source": [
    "'''\n",
    "Result of several runs\n",
    "\n",
    "'''"
   ]
  },
  {
   "cell_type": "markdown",
   "metadata": {},
   "source": [
    "## Values scaling"
   ]
  },
  {
   "cell_type": "markdown",
   "metadata": {},
   "source": [
    "### The logic behind scaling"
   ]
  },
  {
   "cell_type": "code",
   "execution_count": 152,
   "metadata": {
    "scrolled": true
   },
   "outputs": [
    {
     "name": "stdout",
     "output_type": "stream",
     "text": [
      "[14895 12089 16076 15906 11650 10510 11679 12469 19838 11849 12553 13524\n",
      " 16111 15622 10014 11931 17273 15536 11906 18903]\n",
      "[7 4 6 5 7 0 6 8 2 8 9 8 4 5 2 7 1 9 2 6]\n"
     ]
    }
   ],
   "source": [
    "#Create two features with different size with random (use function np.random.randint())\n",
    "data_x1 = np.random.randint(10000, 20000, size = (20))\n",
    "data_x2 = np.random.randint(0, 10, size = (20))\n",
    "print(data_x1)\n",
    "print(data_x2)"
   ]
  },
  {
   "cell_type": "code",
   "execution_count": 141,
   "metadata": {},
   "outputs": [
    {
     "data": {
      "text/plain": [
       "<matplotlib.collections.PathCollection at 0x193784abf40>"
      ]
     },
     "execution_count": 141,
     "metadata": {},
     "output_type": "execute_result"
    },
    {
     "data": {
      "image/png": "[encoded data removed]",
      "text/plain": [
       "<Figure size 432x288 with 1 Axes>"
      ]
     },
     "metadata": {
      "needs_background": "light"
     },
     "output_type": "display_data"
    }
   ],
   "source": [
    "#Let's try to plot it together\n",
    "plt.scatter(range(20), data_x1)\n",
    "plt.scatter(range(20), data_x2)"
   ]
  },
  {
   "cell_type": "code",
   "execution_count": 142,
   "metadata": {},
   "outputs": [],
   "source": [
    "#We can scale our data with normalization ((x - xmin)/(xmax - xmin))\n",
    "data_x1_norm = (data_x1 - min(data_x1))/(max(data_x1)- min(data_x1))\n",
    "data_x2_norm = (data_x2 - min(data_x2))/(max(data_x2)- min(data_x2))"
   ]
  },
  {
   "cell_type": "code",
   "execution_count": 144,
   "metadata": {},
   "outputs": [
    {
     "data": {
      "text/plain": [
       "<matplotlib.collections.PathCollection at 0x19378597700>"
      ]
     },
     "execution_count": 144,
     "metadata": {},
     "output_type": "execute_result"
    },
    {
     "data": {
      "image/png": "[encoded data removed]",
      "text/plain": [
       "<Figure size 432x288 with 1 Axes>"
      ]
     },
     "metadata": {
      "needs_background": "light"
     },
     "output_type": "display_data"
    }
   ],
   "source": [
    "#Let's plot it again\n",
    "\n",
    "plt.scatter(range(20), data_x1_norm)\n",
    "plt.scatter(range(20), data_x2_norm)"
   ]
  },
  {
   "cell_type": "code",
   "execution_count": 146,
   "metadata": {},
   "outputs": [],
   "source": [
    "#We can scale our data with standardization\n",
    "data_x1_stan = (data_x1 - np.mean(data_x1))/np.std(data_x1)\n",
    "data_x2_stan = (data_x2 - np.mean(data_x2))/np.std(data_x2)"
   ]
  },
  {
   "cell_type": "code",
   "execution_count": 147,
   "metadata": {},
   "outputs": [
    {
     "data": {
      "text/plain": [
       "<matplotlib.collections.PathCollection at 0x19378286d60>"
      ]
     },
     "execution_count": 147,
     "metadata": {},
     "output_type": "execute_result"
    },
    {
     "data": {
      "image/png": "[encoded data removed]",
      "text/plain": [
       "<Figure size 432x288 with 1 Axes>"
      ]
     },
     "metadata": {
      "needs_background": "light"
     },
     "output_type": "display_data"
    }
   ],
   "source": [
    "#we can now plot our data\n",
    "plt.scatter(range(20), data_x1_stan)\n",
    "plt.scatter(range(20), data_x2_stan)"
   ]
  },
  {
   "cell_type": "code",
   "execution_count": 150,
   "metadata": {},
   "outputs": [
    {
     "data": {
      "image/png": "[encoded data removed]",
      "text/plain": [
       "<Figure size 432x288 with 1 Axes>"
      ]
     },
     "metadata": {
      "needs_background": "light"
     },
     "output_type": "display_data"
    },
    {
     "data": {
      "text/plain": [
       "(-1.1, 1.1)"
      ]
     },
     "execution_count": 150,
     "metadata": {},
     "output_type": "execute_result"
    },
    {
     "data": {
      "image/png": "[encoded data removed]",
      "text/plain": [
       "<Figure size 432x288 with 1 Axes>"
      ]
     },
     "metadata": {
      "needs_background": "light"
     },
     "output_type": "display_data"
    }
   ],
   "source": [
    "#The difference between normalisation and standardization when there is outliers\n",
    "#Let's plot it\n",
    "data_x1[0] = -100_000\n",
    "data_x1_norm = (data_x1 - min(data_x1))/(max(data_x1)- min(data_x1))\n",
    "data_x2_norm = (data_x2 - min(data_x2))/(max(data_x2)- min(data_x2))\n",
    "plt.scatter(range(20), data_x1_norm)\n",
    "plt.scatter(range(20), data_x2_norm)\n",
    "plt.show()\n",
    "data_x1_stan = (data_x1 - np.mean(data_x1))/np.std(data_x1)\n",
    "data_x2_stan = (data_x2 - np.mean(data_x2))/np.std(data_x2)\n",
    "plt.scatter(range(20), data_x1_stan)\n",
    "plt.scatter(range(20), data_x2_stan)\n",
    "plt.ylim(-1.1,1.1)"
   ]
  },
  {
   "cell_type": "markdown",
   "metadata": {},
   "source": [
    "### The scikit-learn object"
   ]
  },
  {
   "cell_type": "code",
   "execution_count": 151,
   "metadata": {},
   "outputs": [],
   "source": [
    "#Create the scaler object StandardScaler() object\n",
    "scaler = skprepro.StandardScaler()"
   ]
  },
  {
   "cell_type": "code",
   "execution_count": 154,
   "metadata": {
    "scrolled": false
   },
   "outputs": [
    {
     "name": "stdout",
     "output_type": "stream",
     "text": [
      "[[14895     7]\n",
      " [12089     4]\n",
      " [16076     6]\n",
      " [15906     5]\n",
      " [11650     7]\n",
      " [10510     0]\n",
      " [11679     6]\n",
      " [12469     8]\n",
      " [19838     2]\n",
      " [11849     8]\n",
      " [12553     9]\n",
      " [13524     8]\n",
      " [16111     4]\n",
      " [15622     5]\n",
      " [10014     2]\n",
      " [11931     7]\n",
      " [17273     1]\n",
      " [15536     9]\n",
      " [11906     2]\n",
      " [18903     6]]\n"
     ]
    }
   ],
   "source": [
    "#prepare our data: 2 columns because 2 features\n",
    "data_x = np.hstack([data_x1.reshape(-1,1), data_x2.reshape(-1,1)])\n",
    "print(data_x)"
   ]
  },
  {
   "cell_type": "code",
   "execution_count": 164,
   "metadata": {
    "scrolled": true
   },
   "outputs": [
    {
     "name": "stdout",
     "output_type": "stream",
     "text": [
      "[[-5.15768642 -0.11250879]]\n"
     ]
    }
   ],
   "source": [
    "#use it on your data with the fit(), transform(), fit_transform()\n",
    "scaler_f = scaler.fit(data_x)\n",
    "data_x_stan = scaler_f.transform(data_x)\n",
    "# print(data_x_stan)\n",
    "print(scaler_f.transform([[5, 5]]))"
   ]
  },
  {
   "cell_type": "code",
   "execution_count": 168,
   "metadata": {},
   "outputs": [
    {
     "name": "stdout",
     "output_type": "stream",
     "text": [
      "[[1.40438666e+04 5.32666458e+00]]\n"
     ]
    }
   ],
   "source": [
    "#Use inverse_transform method to come back for standardized data to real data\n",
    "print(scaler.inverse_transform([[0.01, 0.01]]))"
   ]
  },
  {
   "cell_type": "code",
   "execution_count": 185,
   "metadata": {
    "scrolled": true
   },
   "outputs": [
    {
     "name": "stdout",
     "output_type": "stream",
     "text": [
      "[[-1.93765385  0.33481781 -0.62382688]\n",
      " [ 0.61615771 -0.93512067  0.67581245]\n",
      " [ 1.06206131  1.82180687  1.93213047]\n",
      " [ 0.45401094  0.34720663 -0.06064984]\n",
      " [-0.07296604 -0.96610649 -1.18700392]\n",
      " [ 1.10259801 -1.10590966  1.36895343]\n",
      " [-1.65389701 -0.52819477 -0.88375474]\n",
      " [-0.35672288 -0.49624561 -1.1003613 ]\n",
      " [ 0.12971741  1.6926524  -0.3205777 ]\n",
      " [ 0.6566944  -0.16490652  0.19927803]]\n"
     ]
    }
   ],
   "source": [
    "#YOUR TURN (10 minutes)\n",
    "#On the file in Teams (use copy past to transfer it in python), \n",
    "#tranform the three lists in a 10*3 matrix of standardized features\n",
    "l1 = np.array([22, 85, 96, 81, 68, 97, 29, 61, 73, 86])\n",
    "l2 = np.array([1489022, 1073767, 1975250, 1493073, 1063635, 1017921, 1206827, 1217274, 1933018, 1325618])\n",
    "l3 = np.array([-99.67, -99.37, -99.08, -99.54, -99.8, -99.21, -99.73, -99.78, -99.6, -99.48])\n",
    "l = np.hstack([l1.reshape(-1,1), l2.reshape(-1,1), l3.reshape(-1,1) ])\n",
    "scaler_f = skprepro.StandardScaler()\n",
    "# scaler_f = scaler.fit(l)\n",
    "# l_stan = scaler.transform(l)\n",
    "l_stan = scaler_f.fit_transform(l)\n",
    "print(l_stan)"
   ]
  },
  {
   "cell_type": "code",
   "execution_count": 186,
   "metadata": {},
   "outputs": [
    {
     "name": "stdout",
     "output_type": "stream",
     "text": [
      "[[ 0.21079983]\n",
      " [-0.88330123]\n",
      " [ 1.89054004]\n",
      " [ 0.36212778]\n",
      " [-0.98469095]\n",
      " [-0.99982374]\n",
      " [-0.62150388]\n",
      " [-0.53070711]\n",
      " [ 1.67868091]\n",
      " [-0.12212165]]\n"
     ]
    }
   ],
   "source": [
    "#YOUR TURN (10 minutes)\n",
    "#Make a linear regression with the three features (l1, l2 and l3) and the label (l4)\n",
    "#with standardized and non-standardized features\n",
    "# what is the prediction of both model for fatures: [30, 1600000, -99.5]\n",
    "l4 = np.array([-182, -254.3,  -71  , -172, -261 , -262, -237, -231, -85, -204])\n",
    "l4 = l4.reshape(-1,1)\n",
    "scaler_l = skprepro.StandardScaler()\n",
    "l4_stan = scaler_l.fit_transform(l4)\n",
    "print(l4_stan)"
   ]
  },
  {
   "cell_type": "code",
   "execution_count": 187,
   "metadata": {},
   "outputs": [],
   "source": [
    "model = skmod.LinearRegression().fit(l_stan, l4_stan)\n",
    "x_predict =  [30, 1600000, -99.5]"
   ]
  },
  {
   "cell_type": "code",
   "execution_count": 193,
   "metadata": {},
   "outputs": [
    {
     "name": "stdout",
     "output_type": "stream",
     "text": [
      "[[-1.61336032  0.67421223  0.11263541]]\n",
      "[[-157.47748455]]\n"
     ]
    }
   ],
   "source": [
    "# x_predict =  np.array([30, 1600000, -99.5]).reshape(-1,1)\n",
    "x_predict_stan = scaler_f.transform(np.array([[30, 1600000, -99.5]]))\n",
    "print(x_predict_stan)\n",
    "y_predict_stan = model.predict(x_predict_stan)\n",
    "print(scaler_l.inverse_transform(y_predict_stan))\n"
   ]
  },
  {
   "cell_type": "code",
   "execution_count": null,
   "metadata": {},
   "outputs": [],
   "source": []
  }
 ],
 "metadata": {
  "kernelspec": {
   "display_name": "Python 3.10.2 64-bit",
   "language": "python",
   "name": "python3"
  },
  "language_info": {
   "codemirror_mode": {
    "name": "ipython",
    "version": 3
   },
   "file_extension": ".py",
   "mimetype": "text/x-python",
   "name": "python",
   "nbconvert_exporter": "python",
   "pygments_lexer": "ipython3",
   "version": "3.10.2 (tags/v3.10.2:a58ebcc, Jan 17 2022, 14:12:15) [MSC v.1929 64 bit (AMD64)]"
  },
  "vscode": {
   "interpreter": {
    "hash": "03b254a122a29b5b6b2e2be093a3c4540ec601800921327b0325f2ff1dcb1ccb"
   }
  }
 },
 "nbformat": 4,
 "nbformat_minor": 4
}
