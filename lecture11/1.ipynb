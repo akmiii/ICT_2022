{
 "cells": [
  {
   "cell_type": "code",
   "execution_count": 2,
   "metadata": {},
   "outputs": [],
   "source": [
    "import numpy as np\n",
    "import sklearn.linear_model as skmod\n",
    "import sklearn.preprocessing as skprepro\n",
    "import matplotlib.pyplot as plt"
   ]
  },
  {
   "cell_type": "code",
   "execution_count": 3,
   "metadata": {},
   "outputs": [],
   "source": [
    "x1 = [6, 10, 2, 3, 4, 0, 7, 8, 9, 1]\n",
    "y = [130, 21, 43, 76, 105, 3, 167, 162, 91, 15]\n",
    "\n",
    "arr_x1 = np.array(x1).reshape(-1,1)\n",
    "arr_y = np.array(y).reshape(-1,1)\n",
    "arr_x2 = arr_x1**2\n",
    "arr_x3 = arr_x1**3\n"
   ]
  },
  {
   "cell_type": "code",
   "execution_count": 4,
   "metadata": {},
   "outputs": [
    {
     "name": "stdout",
     "output_type": "stream",
     "text": [
      "[[6.0000000e+00 3.6000000e+01 2.1600000e+02 1.2960000e+03 7.7760000e+03\n",
      "  4.6656000e+04 2.7993600e+05 1.6796160e+06]\n",
      " [1.0000000e+01 1.0000000e+02 1.0000000e+03 1.0000000e+04 1.0000000e+05\n",
      "  1.0000000e+06 1.0000000e+07 1.0000000e+08]\n",
      " [2.0000000e+00 4.0000000e+00 8.0000000e+00 1.6000000e+01 3.2000000e+01\n",
      "  6.4000000e+01 1.2800000e+02 2.5600000e+02]\n",
      " [3.0000000e+00 9.0000000e+00 2.7000000e+01 8.1000000e+01 2.4300000e+02\n",
      "  7.2900000e+02 2.1870000e+03 6.5610000e+03]\n",
      " [4.0000000e+00 1.6000000e+01 6.4000000e+01 2.5600000e+02 1.0240000e+03\n",
      "  4.0960000e+03 1.6384000e+04 6.5536000e+04]\n",
      " [0.0000000e+00 0.0000000e+00 0.0000000e+00 0.0000000e+00 0.0000000e+00\n",
      "  0.0000000e+00 0.0000000e+00 0.0000000e+00]\n",
      " [7.0000000e+00 4.9000000e+01 3.4300000e+02 2.4010000e+03 1.6807000e+04\n",
      "  1.1764900e+05 8.2354300e+05 5.7648010e+06]\n",
      " [8.0000000e+00 6.4000000e+01 5.1200000e+02 4.0960000e+03 3.2768000e+04\n",
      "  2.6214400e+05 2.0971520e+06 1.6777216e+07]\n",
      " [9.0000000e+00 8.1000000e+01 7.2900000e+02 6.5610000e+03 5.9049000e+04\n",
      "  5.3144100e+05 4.7829690e+06 4.3046721e+07]\n",
      " [1.0000000e+00 1.0000000e+00 1.0000000e+00 1.0000000e+00 1.0000000e+00\n",
      "  1.0000000e+00 1.0000000e+00 1.0000000e+00]]\n"
     ]
    }
   ],
   "source": [
    "poly8 = skprepro.PolynomialFeatures(degree = 8, include_bias = False)\n",
    "arr_x_poly = poly8.fit_transform(arr_x1)\n",
    "print(arr_x_poly)"
   ]
  },
  {
   "cell_type": "code",
   "execution_count": 5,
   "metadata": {},
   "outputs": [
    {
     "name": "stdout",
     "output_type": "stream",
     "text": [
      "[[ 4.64288598e+01 -8.12079564e+01  6.74485351e+01 -2.38710228e+01\n",
      "   4.20411225e+00 -3.74085552e-01  1.49833988e-02 -1.72233196e-04]]\n"
     ]
    }
   ],
   "source": [
    "model = skmod.LinearRegression().fit(arr_x_poly, arr_y)\n",
    "print(model.coef_)"
   ]
  },
  {
   "cell_type": "code",
   "execution_count": 13,
   "metadata": {},
   "outputs": [
    {
     "name": "stdout",
     "output_type": "stream",
     "text": [
      "[[-1.93765385  0.33481781 -0.62382688]\n",
      " [ 0.61615771 -0.93512067  0.67581245]\n",
      " [ 1.06206131  1.82180687  1.93213047]\n",
      " [ 0.45401094  0.34720663 -0.06064984]\n",
      " [-0.07296604 -0.96610649 -1.18700392]\n",
      " [ 1.10259801 -1.10590966  1.36895343]\n",
      " [-1.65389701 -0.52819477 -0.88375474]\n",
      " [-0.35672288 -0.49624561 -1.1003613 ]\n",
      " [ 0.12971741  1.6926524  -0.3205777 ]\n",
      " [ 0.6566944  -0.16490652  0.19927803]]\n"
     ]
    }
   ],
   "source": [
    "l1 = np.array([22, 85, 96, 81, 68, 97, 29, 61, 73, 86])\n",
    "l2 = np.array([1489022, 1073767, 1975250, 1493073, 1063635, 1017921, 1206827, 1217274, 1933018, 1325618])\n",
    "l3 = np.array([-99.67, -99.37, -99.08, -99.54, -99.8, -99.21, -99.73, -99.78, -99.6, -99.48])\n",
    "\n",
    "l = np.hstack([l1.reshape(-1, 1), l2.reshape(-1, 1), l3.reshape(-1, 1)])\n",
    "# print(l)\n",
    "\n",
    "scaler_f = skprepro.StandardScaler()\n",
    "# scaler = skprepro.StandardScaler()\n",
    "\n",
    "scaler_f = scaler_f.fit(l)\n",
    "l_stn = scaler_f.transform(l)\n",
    "print(l_stn)\n"
   ]
  },
  {
   "cell_type": "markdown",
   "metadata": {},
   "source": []
  }
 ],
 "metadata": {
  "kernelspec": {
   "display_name": "Python 3.10.2 64-bit",
   "language": "python",
   "name": "python3"
  },
  "language_info": {
   "codemirror_mode": {
    "name": "ipython",
    "version": 3
   },
   "file_extension": ".py",
   "mimetype": "text/x-python",
   "name": "python",
   "nbconvert_exporter": "python",
   "pygments_lexer": "ipython3",
   "version": "3.10.2"
  },
  "orig_nbformat": 4,
  "vscode": {
   "interpreter": {
    "hash": "03b254a122a29b5b6b2e2be093a3c4540ec601800921327b0325f2ff1dcb1ccb"
   }
  }
 },
 "nbformat": 4,
 "nbformat_minor": 2
}
