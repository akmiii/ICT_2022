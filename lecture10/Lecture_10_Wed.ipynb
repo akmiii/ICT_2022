{
 "cells": [
  {
   "cell_type": "markdown",
   "metadata": {},
   "source": [
    "# Correction of practice 9"
   ]
  },
  {
   "cell_type": "code",
   "execution_count": null,
   "metadata": {},
   "outputs": [],
   "source": [
    "#See the excel file"
   ]
  },
  {
   "cell_type": "markdown",
   "metadata": {},
   "source": [
    "# Lecture 10: Machine Learning"
   ]
  },
  {
   "cell_type": "markdown",
   "metadata": {},
   "source": [
    "## Installation of packages"
   ]
  },
  {
   "cell_type": "code",
   "execution_count": null,
   "metadata": {
    "scrolled": true
   },
   "outputs": [],
   "source": [
    "#Install the package numpy and scikit-learn"
   ]
  },
  {
   "cell_type": "code",
   "execution_count": 1,
   "metadata": {},
   "outputs": [
    {
     "name": "stdout",
     "output_type": "stream",
     "text": [
      "Requirement already satisfied: numpy in c:\\users\\chard\\anaconda3\\lib\\site-packages (1.23.3)\n",
      "Note: you may need to restart the kernel to use updated packages.\n"
     ]
    }
   ],
   "source": [
    "pip install numpy"
   ]
  },
  {
   "cell_type": "code",
   "execution_count": 2,
   "metadata": {},
   "outputs": [
    {
     "name": "stdout",
     "output_type": "stream",
     "text": [
      "Requirement already satisfied: scikit-learn in c:\\users\\chard\\anaconda3\\lib\\site-packages (0.23.1)\n",
      "Requirement already satisfied: threadpoolctl>=2.0.0 in c:\\users\\chard\\anaconda3\\lib\\site-packages (from scikit-learn) (2.1.0)\n",
      "Requirement already satisfied: scipy>=0.19.1 in c:\\users\\chard\\anaconda3\\lib\\site-packages (from scikit-learn) (1.5.0)\n",
      "Requirement already satisfied: joblib>=0.11 in c:\\users\\chard\\anaconda3\\lib\\site-packages (from scikit-learn) (0.16.0)\n",
      "Requirement already satisfied: numpy>=1.13.3 in c:\\users\\chard\\anaconda3\\lib\\site-packages (from scikit-learn) (1.23.3)\n",
      "Note: you may need to restart the kernel to use updated packages.\n"
     ]
    }
   ],
   "source": [
    "pip install scikit-learn"
   ]
  },
  {
   "cell_type": "code",
   "execution_count": 3,
   "metadata": {},
   "outputs": [],
   "source": [
    "#import the packages\n",
    "import numpy as np\n",
    "import sklearn.linear_model as skmod"
   ]
  },
  {
   "cell_type": "markdown",
   "metadata": {},
   "source": [
    "## Reminder of numpy"
   ]
  },
  {
   "cell_type": "code",
   "execution_count": 5,
   "metadata": {},
   "outputs": [],
   "source": [
    "#Our data: the goats and the altitude\n",
    "alt = [3.25, 0.816, 4.376, 1.314, 3.982, 2.957, 2.482, 3.7]\n",
    "n_goats = [21, 22, 13, 25, 17, 23, 23, 27]"
   ]
  },
  {
   "cell_type": "code",
   "execution_count": 9,
   "metadata": {},
   "outputs": [
    {
     "name": "stdout",
     "output_type": "stream",
     "text": [
      "[[3.25 ]\n",
      " [0.816]\n",
      " [4.376]\n",
      " [1.314]\n",
      " [3.982]\n",
      " [2.957]\n",
      " [2.482]\n",
      " [3.7  ]]\n",
      "[[21]\n",
      " [22]\n",
      " [13]\n",
      " [25]\n",
      " [17]\n",
      " [23]\n",
      " [23]\n",
      " [27]]\n"
     ]
    }
   ],
   "source": [
    "#Reorder your arrays\n",
    "arr_x = np.array(alt)\n",
    "arr_x = arr_x.reshape(-1,1)\n",
    "print(arr_x)\n",
    "arr_y = np.array(n_goats).reshape(-1,1)\n",
    "print(arr_y)"
   ]
  },
  {
   "cell_type": "markdown",
   "metadata": {},
   "source": [
    "## The linear regression"
   ]
  },
  {
   "cell_type": "code",
   "execution_count": 12,
   "metadata": {},
   "outputs": [
    {
     "data": {
      "text/plain": [
       "<matplotlib.collections.PathCollection at 0x176422aa160>"
      ]
     },
     "execution_count": 12,
     "metadata": {},
     "output_type": "execute_result"
    },
    {
     "data": {
      "image/png": "[encoded data removed]",
      "text/plain": [
       "<Figure size 432x288 with 1 Axes>"
      ]
     },
     "metadata": {
      "needs_background": "light"
     },
     "output_type": "display_data"
    }
   ],
   "source": [
    "#Plot your data first\n",
    "import matplotlib.pyplot as plt\n",
    "plt.scatter(arr_x, arr_y)"
   ]
  },
  {
   "cell_type": "code",
   "execution_count": 13,
   "metadata": {},
   "outputs": [],
   "source": [
    "#Create a linear regression model: LinearRegression()\n",
    "model = skmod.LinearRegression()"
   ]
  },
  {
   "cell_type": "code",
   "execution_count": 14,
   "metadata": {},
   "outputs": [],
   "source": [
    "#some parameters than you can change:\n",
    "#fit_intercept (consider b=0 if False, default is True)"
   ]
  },
  {
   "cell_type": "code",
   "execution_count": 16,
   "metadata": {},
   "outputs": [],
   "source": [
    "#Train your model\n",
    "model_trained = model.fit(arr_x, arr_y)"
   ]
  },
  {
   "cell_type": "code",
   "execution_count": 18,
   "metadata": {
    "scrolled": false
   },
   "outputs": [
    {
     "name": "stdout",
     "output_type": "stream",
     "text": [
      "[[-1.8288764]]\n",
      "[26.60490068]\n",
      "0.266272309411421\n"
     ]
    }
   ],
   "source": [
    "#get the result: the intercept (b)(.intercept_), the coeff (w1)(.coef_) \n",
    "#and the R2 (.score(x, y))\n",
    "print(model_trained.coef_)\n",
    "print(model_trained.intercept_)\n",
    "#Equation is: y' = -1.83*x + 26.6\n",
    "print(model_trained.score(arr_x, arr_y))"
   ]
  },
  {
   "cell_type": "code",
   "execution_count": 20,
   "metadata": {},
   "outputs": [
    {
     "data": {
      "text/plain": [
       "[<matplotlib.lines.Line2D at 0x176423eb130>]"
      ]
     },
     "execution_count": 20,
     "metadata": {},
     "output_type": "execute_result"
    },
    {
     "data": {
      "image/png": "[encoded data removed]",
      "text/plain": [
       "<Figure size 432x288 with 1 Axes>"
      ]
     },
     "metadata": {
      "needs_background": "light"
     },
     "output_type": "display_data"
    }
   ],
   "source": [
    "#draw your model on the graph\n",
    "plt.scatter(arr_x, arr_y)\n",
    "plt.plot([0, 5], [-1.83*0 + 26.6, -1.83*5 + 26.6 ])"
   ]
  },
  {
   "cell_type": "code",
   "execution_count": 22,
   "metadata": {},
   "outputs": [
    {
     "name": "stdout",
     "output_type": "stream",
     "text": [
      "[[0. ]\n",
      " [2.5]\n",
      " [5. ]]\n",
      "[[26.60490068]\n",
      " [22.03270968]\n",
      " [17.46051868]]\n"
     ]
    }
   ],
   "source": [
    "#Now use your model to predict data (.predict(x))\n",
    "x_for_predict = np.array([[0], [2.5], [5]])\n",
    "print(x_for_predict)\n",
    "print(model.predict(x_for_predict))"
   ]
  },
  {
   "cell_type": "code",
   "execution_count": 23,
   "metadata": {},
   "outputs": [
    {
     "name": "stdout",
     "output_type": "stream",
     "text": [
      "[22.03270968]\n"
     ]
    }
   ],
   "source": [
    "#Predict the result without predict but with intercept and coeff\n",
    "print(model.coef_[0]*2.5 + model.intercept_)"
   ]
  },
  {
   "cell_type": "code",
   "execution_count": null,
   "metadata": {},
   "outputs": [],
   "source": [
    "#YOUR TURN (15 minutes)\n",
    "#Use the folowwing data to create a linear regression model and train it:\n",
    "# feature 1 | Label\n",
    "#--------------------\n",
    "#   25      |   80\n",
    "#   100     |   254\n",
    "#   30      |   152\n",
    "#   5       |   4\n",
    "#   85      |   271\n",
    "\n",
    "#The coeff use to preduce data was 2,56 and the intercept was 23\n",
    "#How close are you (How high is the score)?\n",
    "#Draw the graph of the datas and your prediction"
   ]
  },
  {
   "cell_type": "code",
   "execution_count": 27,
   "metadata": {
    "scrolled": true
   },
   "outputs": [
    {
     "name": "stdout",
     "output_type": "stream",
     "text": [
      "2.618316100443131\n",
      "23.90251107828658\n",
      "0.8985431805527473\n"
     ]
    }
   ],
   "source": [
    "arr_x = np.array([[25], [100], [30],[5],[85]])\n",
    "arr_y = np.array([80,254, 152, 4, 271]).reshape(-1,1)\n",
    "model = skmod.LinearRegression()\n",
    "model = model.fit(arr_x, arr_y)\n",
    "print(model.coef_[0][0])\n",
    "print(model.intercept_[0])\n",
    "print(model.score(arr_x, arr_y))"
   ]
  },
  {
   "cell_type": "code",
   "execution_count": 29,
   "metadata": {},
   "outputs": [
    {
     "data": {
      "text/plain": [
       "[<matplotlib.lines.Line2D at 0x17643b49670>]"
      ]
     },
     "execution_count": 29,
     "metadata": {},
     "output_type": "execute_result"
    },
    {
     "data": {
      "image/png": "[encoded data removed]",
      "text/plain": [
       "<Figure size 432x288 with 1 Axes>"
      ]
     },
     "metadata": {
      "needs_background": "light"
     },
     "output_type": "display_data"
    }
   ],
   "source": [
    "plt.scatter(arr_x, arr_y)\n",
    "plt.plot([0,100], model.predict(np.array([[0], [100]])))"
   ]
  },
  {
   "cell_type": "markdown",
   "metadata": {},
   "source": [
    "## For mutiple dimension\n"
   ]
  },
  {
   "cell_type": "code",
   "execution_count": 30,
   "metadata": {},
   "outputs": [],
   "source": [
    "#Our datas: the students work\n",
    "x1 = [9, 10, 16, 22, 17, 7, 10, 24, 15] #homework hours\n",
    "x2 = [14, 18, 1, 22, 6, 12, 4, 28, 22] #nb of classes attended\n",
    "y = [42.8, 48.8, 36.8, 81.1, 44.8, 32.4, 28.8, 100, 73.1] #average final score"
   ]
  },
  {
   "cell_type": "code",
   "execution_count": 31,
   "metadata": {},
   "outputs": [
    {
     "data": {
      "text/plain": [
       "<matplotlib.collections.PathCollection at 0x17643c6ffa0>"
      ]
     },
     "execution_count": 31,
     "metadata": {},
     "output_type": "execute_result"
    },
    {
     "data": {
      "image/png": "[encoded data removed]",
      "text/plain": [
       "<Figure size 432x288 with 1 Axes>"
      ]
     },
     "metadata": {
      "needs_background": "light"
     },
     "output_type": "display_data"
    }
   ],
   "source": [
    "#Draw the data in 2d with colors\n",
    "plt.scatter(x1, x2, c = y, cmap = 'Reds')"
   ]
  },
  {
   "cell_type": "code",
   "execution_count": 32,
   "metadata": {},
   "outputs": [
    {
     "data": {
      "text/plain": [
       "<mpl_toolkits.mplot3d.art3d.Path3DCollection at 0x17643e44a00>"
      ]
     },
     "execution_count": 32,
     "metadata": {},
     "output_type": "execute_result"
    },
    {
     "data": {
      "image/png": "[encoded data removed]",
      "text/plain": [
       "<Figure size 432x288 with 1 Axes>"
      ]
     },
     "metadata": {
      "needs_background": "light"
     },
     "output_type": "display_data"
    }
   ],
   "source": [
    "#Draw in 3D\n",
    "ax = plt.subplot(projection='3d')\n",
    "ax.scatter(x1, x2, y)"
   ]
  },
  {
   "cell_type": "code",
   "execution_count": 34,
   "metadata": {},
   "outputs": [
    {
     "name": "stdout",
     "output_type": "stream",
     "text": [
      "[[ 9 14]\n",
      " [10 18]\n",
      " [16  1]\n",
      " [22 22]\n",
      " [17  6]\n",
      " [ 7 12]\n",
      " [10  4]\n",
      " [24 28]\n",
      " [15 22]]\n",
      "[[ 42.8]\n",
      " [ 48.8]\n",
      " [ 36.8]\n",
      " [ 81.1]\n",
      " [ 44.8]\n",
      " [ 32.4]\n",
      " [ 28.8]\n",
      " [100. ]\n",
      " [ 73.1]]\n"
     ]
    }
   ],
   "source": [
    "#Transform our data for scikit-learn\n",
    "arr_x1 = np.array(x1).reshape(-1,1)\n",
    "arr_x2 = np.array(x2).reshape(-1,1)\n",
    "arr_y = np.array(y).reshape(-1,1)\n",
    "arr_x = np.hstack([arr_x1, arr_x2])\n",
    "print(arr_x)\n",
    "print(arr_y)"
   ]
  },
  {
   "cell_type": "code",
   "execution_count": 35,
   "metadata": {},
   "outputs": [],
   "source": [
    "#create and train the model\n",
    "model = skmod.LinearRegression()\n",
    "model = model.fit(arr_x, arr_y)"
   ]
  },
  {
   "cell_type": "code",
   "execution_count": 38,
   "metadata": {},
   "outputs": [
    {
     "name": "stdout",
     "output_type": "stream",
     "text": [
      "[[2.21268076 1.68913745]]\n",
      "[-1.50766172]\n"
     ]
    }
   ],
   "source": [
    "#get the result and write the equation\n",
    "print(model.coef_)\n",
    "print(model.intercept_)\n",
    "#Equation is: y' = 2.213*x1 + 1.689*x2 -1.507\n",
    "#x1 : homework hours, x2 : attendances"
   ]
  },
  {
   "cell_type": "code",
   "execution_count": 39,
   "metadata": {},
   "outputs": [
    {
     "name": "stdout",
     "output_type": "stream",
     "text": [
      "[[19.80907432]\n",
      " [81.76413569]\n",
      " [53.59182333]]\n"
     ]
    }
   ],
   "source": [
    "#Prediction with the model\n",
    "#[2, 10]\n",
    "#[30, 10]\n",
    "#[2, 30]\n",
    "print(model.predict(np.array([[2, 10], \n",
    "                              [30, 10], \n",
    "                              [2, 30]])))"
   ]
  },
  {
   "cell_type": "code",
   "execution_count": 40,
   "metadata": {},
   "outputs": [
    {
     "name": "stdout",
     "output_type": "stream",
     "text": [
      "19.809\n"
     ]
    }
   ],
   "source": [
    "#use the model for equation\n",
    "print(2*2.213 + 10* 1.689 -1.507)"
   ]
  },
  {
   "cell_type": "code",
   "execution_count": null,
   "metadata": {},
   "outputs": [],
   "source": [
    "#YOUR TURN (15 minutes)\n",
    "#Here is your data\n",
    "#x1 = [7, 0, 3, 3, 5]\n",
    "#x2 = [2, 0, 7, 3, 9]\n",
    "#y = [44, 0, 25, 21, 39]\n",
    "#Make the linear regression between these datas.\n",
    "#What are the weights and the bias? Write the final equation of your model.\n",
    "#What would be the prediction for x1 = 5 and x2 = 6"
   ]
  },
  {
   "cell_type": "markdown",
   "metadata": {},
   "source": [
    "## The polynomial regression"
   ]
  },
  {
   "cell_type": "code",
   "execution_count": 41,
   "metadata": {},
   "outputs": [],
   "source": [
    "#Remember: A polynomial regression of degree two is just \n",
    "#a linear regression with two features where the second feature\n",
    "#is the square of the first one"
   ]
  },
  {
   "cell_type": "code",
   "execution_count": 45,
   "metadata": {},
   "outputs": [],
   "source": [
    "#Our data: the number of goats\n",
    "alt = [3.25, 0.816, 4.376, 1.314, 3.982, 2.957, 2.482, 3.7]\n",
    "n_goats = [21, 22, 13, 25, 17, 23, 23, 27]"
   ]
  },
  {
   "cell_type": "code",
   "execution_count": 49,
   "metadata": {
    "scrolled": false
   },
   "outputs": [
    {
     "name": "stdout",
     "output_type": "stream",
     "text": [
      "[[ 3.25     10.5625  ]\n",
      " [ 0.816     0.665856]\n",
      " [ 4.376    19.149376]\n",
      " [ 1.314     1.726596]\n",
      " [ 3.982    15.856324]\n",
      " [ 2.957     8.743849]\n",
      " [ 2.482     6.160324]\n",
      " [ 3.7      13.69    ]]\n",
      "[[21]\n",
      " [22]\n",
      " [13]\n",
      " [25]\n",
      " [17]\n",
      " [23]\n",
      " [23]\n",
      " [27]]\n"
     ]
    }
   ],
   "source": [
    "#The simplest way to do it: the square method\n",
    "alt_sq = []\n",
    "for i in alt:\n",
    "    alt_sq.append(i**2)\n",
    "\n",
    "arr_x1 = np.array(alt).reshape(-1,1)\n",
    "arr_x2 = np.array(alt_sq).reshape(-1,1)\n",
    "arr_y = np.array(n_goats).reshape(-1,1)\n",
    "arr_x = np.hstack([arr_x1, arr_x2])\n",
    "print(arr_x)\n",
    "print(arr_y)"
   ]
  },
  {
   "cell_type": "code",
   "execution_count": 50,
   "metadata": {},
   "outputs": [],
   "source": [
    "#Create the model and train it\n",
    "model = skmod.LinearRegression().fit(arr_x, arr_y)"
   ]
  },
  {
   "cell_type": "code",
   "execution_count": 52,
   "metadata": {},
   "outputs": [
    {
     "name": "stdout",
     "output_type": "stream",
     "text": [
      "[[ 8.23020929 -1.96652729]]\n",
      "[16.6580818]\n"
     ]
    }
   ],
   "source": [
    "#show the coefficients\n",
    "print(model.coef_)\n",
    "print(model.intercept_)\n",
    "#Equation is: y' = 8.23*x1 + -1.97*x2 + 16.66\n",
    "#Equation is: y' = 8.23*x1 + -1.97*x1^2 + 16.66"
   ]
  },
  {
   "cell_type": "code",
   "execution_count": 61,
   "metadata": {},
   "outputs": [
    {
     "data": {
      "text/plain": [
       "[<matplotlib.lines.Line2D at 0x17643fba1c0>]"
      ]
     },
     "execution_count": 61,
     "metadata": {},
     "output_type": "execute_result"
    },
    {
     "data": {
      "image/png": "[encoded data removed]",
      "text/plain": [
       "<Figure size 432x288 with 1 Axes>"
      ]
     },
     "metadata": {
      "needs_background": "light"
     },
     "output_type": "display_data"
    }
   ],
   "source": [
    "#Draw your datas and the model\n",
    "plt.scatter(arr_x1, arr_y)\n",
    "x_for_plot = np.arange(0,5,0.1) #range(0,5)\n",
    "x2_for_plot = x_for_plot*x_for_plot\n",
    "x_final = np.hstack([x_for_plot.reshape(-1,1),x2_for_plot.reshape(-1,1) ])\n",
    "y_for_plot = model.predict(x_final)\n",
    "plt.plot(x_for_plot, y_for_plot)"
   ]
  },
  {
   "cell_type": "code",
   "execution_count": null,
   "metadata": {},
   "outputs": [],
   "source": [
    "#YOUR TURN (15 minutes)\n",
    "#Find the link between these values (use linear and polynomial regression)\n",
    "#\n",
    "# feature  Label\n",
    "# 13       505\n",
    "# 3        35\n",
    "# 17       836\n",
    "# 0        -6\n",
    "# 2         16\n",
    "#The equation used is 2,56*x^2 + x*6 -6.2, \n",
    "#Can you find it with your regression?\n",
    "#score?"
   ]
  },
  {
   "cell_type": "code",
   "execution_count": 68,
   "metadata": {},
   "outputs": [
    {
     "name": "stdout",
     "output_type": "stream",
     "text": [
      "[[ 13 169]\n",
      " [  3   9]\n",
      " [ 17 289]\n",
      " [  0   0]\n",
      " [  2   4]]\n",
      "[[6.05253902 2.55824485]]\n",
      "[-6.15443798]\n",
      "0.9999998602607547\n"
     ]
    }
   ],
   "source": [
    "x1 = np.array([[13], [3], [17], [0], [2]])\n",
    "x1_sq = x1*x1\n",
    "x1 = x1.reshape(-1,1)\n",
    "x1_sq = x1_sq.reshape(-1,1)\n",
    "x = np.hstack([x1, x1_sq])\n",
    "print(x)\n",
    "y = np.array([505, 35, 836, -6, 16]).reshape(-1,1)\n",
    "model = skmod.LinearRegression().fit(x, y)\n",
    "print(model.coef_)\n",
    "print(model.intercept_)\n",
    "#Equation is: y' = 6.05*X + 2.56*X^2 - 6.15\n",
    "print(model.score(x,y))"
   ]
  },
  {
   "cell_type": "code",
   "execution_count": 69,
   "metadata": {},
   "outputs": [
    {
     "data": {
      "text/plain": [
       "[<matplotlib.lines.Line2D at 0x17643991190>]"
      ]
     },
     "execution_count": 69,
     "metadata": {},
     "output_type": "execute_result"
    },
    {
     "data": {
      "image/png": "[encoded data removed]",
      "text/plain": [
       "<Figure size 432x288 with 1 Axes>"
      ]
     },
     "metadata": {
      "needs_background": "light"
     },
     "output_type": "display_data"
    }
   ],
   "source": [
    "#Draw your datas and the model\n",
    "plt.scatter(x1, y)\n",
    "x_for_plot = np.arange(0,17,0.1) #range(0,5)\n",
    "x2_for_plot = x_for_plot*x_for_plot\n",
    "x_final = np.hstack([x_for_plot.reshape(-1,1),x2_for_plot.reshape(-1,1) ])\n",
    "y_for_plot = model.predict(x_final)\n",
    "plt.plot(x_for_plot, y_for_plot)"
   ]
  },
  {
   "cell_type": "code",
   "execution_count": 71,
   "metadata": {},
   "outputs": [
    {
     "name": "stdout",
     "output_type": "stream",
     "text": [
      "[[49.61061947]]\n",
      "[-70.07433628]\n",
      "0.9737333414444637\n"
     ]
    }
   ],
   "source": [
    "#Let's show the difference with a linear regression - make the linear model\n",
    "model2 = skmod.LinearRegression().fit(x1, y)\n",
    "print(model2.coef_)\n",
    "print(model2.intercept_)\n",
    "#Equation is: y' = 49.6*X -70.01\n",
    "print(model2.score(x1,y))"
   ]
  },
  {
   "cell_type": "code",
   "execution_count": 72,
   "metadata": {},
   "outputs": [
    {
     "data": {
      "text/plain": [
       "[<matplotlib.lines.Line2D at 0x1764478f310>]"
      ]
     },
     "execution_count": 72,
     "metadata": {},
     "output_type": "execute_result"
    },
    {
     "data": {
      "image/png": "[encoded data removed]",
      "text/plain": [
       "<Figure size 432x288 with 1 Axes>"
      ]
     },
     "metadata": {
      "needs_background": "light"
     },
     "output_type": "display_data"
    }
   ],
   "source": [
    "#show the linear model's equations\n",
    "plt.scatter(x1, y)\n",
    "\n",
    "x_for_plot = np.arange(0,17,0.1) #range(0,5)\n",
    "x2_for_plot = x_for_plot*x_for_plot\n",
    "x_final = np.hstack([x_for_plot.reshape(-1,1),x2_for_plot.reshape(-1,1) ])\n",
    "y_for_plot = model.predict(x_final)\n",
    "plt.plot(x_for_plot, y_for_plot)\n",
    "\n",
    "plt.plot([0,17], [49.6*0 -70.01, 49.6*17 -70.01])"
   ]
  },
  {
   "cell_type": "code",
   "execution_count": null,
   "metadata": {},
   "outputs": [],
   "source": []
  },
  {
   "cell_type": "code",
   "execution_count": null,
   "metadata": {},
   "outputs": [],
   "source": []
  }
 ],
 "metadata": {
  "kernelspec": {
   "display_name": "Python 3.10.2 64-bit",
   "language": "python",
   "name": "python3"
  },
  "language_info": {
   "codemirror_mode": {
    "name": "ipython",
    "version": 3
   },
   "file_extension": ".py",
   "mimetype": "text/x-python",
   "name": "python",
   "nbconvert_exporter": "python",
   "pygments_lexer": "ipython3",
   "version": "3.10.2 (tags/v3.10.2:a58ebcc, Jan 17 2022, 14:12:15) [MSC v.1929 64 bit (AMD64)]"
  },
  "vscode": {
   "interpreter": {
    "hash": "03b254a122a29b5b6b2e2be093a3c4540ec601800921327b0325f2ff1dcb1ccb"
   }
  }
 },
 "nbformat": 4,
 "nbformat_minor": 4
}
