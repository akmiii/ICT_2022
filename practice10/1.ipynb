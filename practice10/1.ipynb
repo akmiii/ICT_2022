{
 "cells": [
  {
   "cell_type": "code",
   "execution_count": 1,
   "metadata": {},
   "outputs": [],
   "source": [
    "import numpy as np\n",
    "import sklearn.linear_model as skmod"
   ]
  },
  {
   "cell_type": "code",
   "execution_count": 3,
   "metadata": {},
   "outputs": [],
   "source": [
    "x1 = [6, 10, 2, 3, 4, 0, 7, 8, 9, 1]\n",
    "y = [130, 21, 43, 76, 105, 3, 167, 162, 91, 15]\n",
    "\n",
    "arr_x = np.array(x1).reshape(-1, 1)\n",
    "arr_y = np.array(y).reshape(-1, 1)"
   ]
  },
  {
   "cell_type": "code",
   "execution_count": 43,
   "metadata": {},
   "outputs": [
    {
     "name": "stdout",
     "output_type": "stream",
     "text": [
      "[[ 6]\n",
      " [10]\n",
      " [ 2]\n",
      " [ 3]\n",
      " [ 4]\n",
      " [ 0]\n",
      " [ 7]\n",
      " [ 8]\n",
      " [ 9]\n",
      " [ 1]]\n",
      "[[ 36]\n",
      " [100]\n",
      " [  4]\n",
      " [  9]\n",
      " [ 16]\n",
      " [  0]\n",
      " [ 49]\n",
      " [ 64]\n",
      " [ 81]\n",
      " [  1]]\n",
      "[[ 216]\n",
      " [1000]\n",
      " [   8]\n",
      " [  27]\n",
      " [  64]\n",
      " [   0]\n",
      " [ 343]\n",
      " [ 512]\n",
      " [ 729]\n",
      " [   1]]\n",
      "[[   6   36  216]\n",
      " [  10  100 1000]\n",
      " [   2    4    8]\n",
      " [   3    9   27]\n",
      " [   4   16   64]\n",
      " [   0    0    0]\n",
      " [   7   49  343]\n",
      " [   8   64  512]\n",
      " [   9   81  729]\n",
      " [   1    1    1]]\n"
     ]
    }
   ],
   "source": [
    "arr_sq = []\n",
    "arr_cube = []\n",
    "\n",
    "for i in arr_x:\n",
    "    arr_sq.append(i ** 2)\n",
    "    arr_cube.append(i ** 3)\n",
    "\n",
    "arr_x1 = np.array(arr_sq).reshape(-1, 1)\n",
    "arr_x2 = np.array(arr_cube).reshape(-1, 1)\n",
    "\n",
    "\n",
    "arr_xx = np.hstack([arr_x, arr_x1, arr_x2])\n",
    "\n",
    "arr_xx1 = np.hstack([arr_x, arr_x1])\n",
    "\n",
    "\n",
    "print(arr_x)\n",
    "print(arr_x1)\n",
    "print(arr_x2)\n",
    "\n",
    "print(arr_xx)\n",
    "\n",
    "# print(arr_x, arr_sq, arr_cube, arr_y)"
   ]
  },
  {
   "cell_type": "code",
   "execution_count": 41,
   "metadata": {},
   "outputs": [
    {
     "name": "stdout",
     "output_type": "stream",
     "text": [
      "[[8.70909091]]\n",
      "[37.75454545]\n",
      "0.2563850855018296\n"
     ]
    }
   ],
   "source": [
    "model = skmod.LinearRegression().fit(arr_x, arr_y)\n",
    "print(model.coef_)\n",
    "print(model.intercept_)\n",
    "print(model.score(arr_x, arr_y))\n"
   ]
  },
  {
   "cell_type": "code",
   "execution_count": 44,
   "metadata": {},
   "outputs": [
    {
     "name": "stdout",
     "output_type": "stream",
     "text": [
      "[[56.77058824 -4.80614973]]\n",
      "[-29.5315508]\n",
      "0.7873314069982927\n"
     ]
    }
   ],
   "source": [
    "model2 = skmod.LinearRegression().fit(arr_xx1, arr_y)\n",
    "print(model2.coef_)\n",
    "print(model2.intercept_)\n",
    "print(model2.score(arr_xx1, arr_y))"
   ]
  },
  {
   "cell_type": "code",
   "execution_count": 45,
   "metadata": {},
   "outputs": [
    {
     "name": "stdout",
     "output_type": "stream",
     "text": [
      "[[ 1.47058824  9.69559852 -0.96678322]]\n",
      "[5.272645]\n",
      "0.9647635974198109\n"
     ]
    }
   ],
   "source": [
    "model3 = skmod.LinearRegression().fit(arr_xx, arr_y)\n",
    "print(model3.coef_)\n",
    "print(model3.intercept_)\n",
    "print(model3.score(arr_xx, arr_y))"
   ]
  },
  {
   "cell_type": "code",
   "execution_count": 10,
   "metadata": {},
   "outputs": [
    {
     "name": "stdout",
     "output_type": "stream",
     "text": [
      "[[ 1.47058824  9.69559852 -0.96678322]]\n",
      "[5.272645]\n",
      "0.9647635974198109\n"
     ]
    }
   ],
   "source": [
    "model = skmod.LinearRegression().fit(arr_xx, arr_y)\n",
    "print(model.coef_)\n",
    "print(model.intercept_)\n",
    "print(model.score(arr_xx, arr_y))\n",
    "\n",
    "\n",
    "# 1.47*x1 + 9.696*x2 - 0.967 *x3 + 0.964"
   ]
  },
  {
   "cell_type": "code",
   "execution_count": 26,
   "metadata": {},
   "outputs": [
    {
     "data": {
      "text/plain": [
       "[<matplotlib.lines.Line2D at 0x17d7bc01900>]"
      ]
     },
     "execution_count": 26,
     "metadata": {},
     "output_type": "execute_result"
    },
    {
     "data": {
      "image/png": "[encoded data removed]",
      "text/plain": [
       "<Figure size 640x480 with 1 Axes>"
      ]
     },
     "metadata": {},
     "output_type": "display_data"
    }
   ],
   "source": [
    "import matplotlib.pyplot as plt\n",
    "\n",
    "plt.scatter(arr_x, arr_y)\n",
    "plt.plot([0, 12], [8.709 * 0 + 37.754, 8.709 * 12 + 37.754])\n",
    "\n",
    "plt.plot([0, 13], [56.770 * 0 -4.806 * 0 - 29.531, 56.770 * 13 -4.806 * 13*13 - 29.531])\n",
    "plt.plot([0, 13], [1.47*0 + 9.696*0 - 0.967 *0 + 0.964, 1.47*13 + 9.696*13*13 - 0.967 *13*13*13 + 0.964])"
   ]
  },
  {
   "cell_type": "code",
   "execution_count": 46,
   "metadata": {},
   "outputs": [
    {
     "ename": "ValueError",
     "evalue": "x and y must be the same size",
     "output_type": "error",
     "traceback": [
      "\u001b[1;31m---------------------------------------------------------------------------\u001b[0m",
      "\u001b[1;31mValueError\u001b[0m                                Traceback (most recent call last)",
      "\u001b[1;32mc:\\Users\\Акмира\\OneDrive\\Документы\\GitHub\\ICT_2022\\1.ipynb Ячейка 9\u001b[0m in \u001b[0;36m<cell line: 2>\u001b[1;34m()\u001b[0m\n\u001b[0;32m      <a href='vscode-notebook-cell:/c%3A/Users/%D0%90%D0%BA%D0%BC%D0%B8%D1%80%D0%B0/OneDrive/%D0%94%D0%BE%D0%BA%D1%83%D0%BC%D0%B5%D0%BD%D1%82%D1%8B/GitHub/ICT_2022/1.ipynb#W6sZmlsZQ%3D%3D?line=0'>1</a>\u001b[0m \u001b[39m# model2 = skmod.LinearRegression().fit(arr_xx1, arr_y)\u001b[39;00m\n\u001b[1;32m----> <a href='vscode-notebook-cell:/c%3A/Users/%D0%90%D0%BA%D0%BC%D0%B8%D1%80%D0%B0/OneDrive/%D0%94%D0%BE%D0%BA%D1%83%D0%BC%D0%B5%D0%BD%D1%82%D1%8B/GitHub/ICT_2022/1.ipynb#W6sZmlsZQ%3D%3D?line=1'>2</a>\u001b[0m plt\u001b[39m.\u001b[39;49mscatter(arr_xx1, arr_y)\n\u001b[0;32m      <a href='vscode-notebook-cell:/c%3A/Users/%D0%90%D0%BA%D0%BC%D0%B8%D1%80%D0%B0/OneDrive/%D0%94%D0%BE%D0%BA%D1%83%D0%BC%D0%B5%D0%BD%D1%82%D1%8B/GitHub/ICT_2022/1.ipynb#W6sZmlsZQ%3D%3D?line=2'>3</a>\u001b[0m x_for_plot \u001b[39m=\u001b[39m np\u001b[39m.\u001b[39marange(\u001b[39m0\u001b[39m,\u001b[39m17\u001b[39m,\u001b[39m0.1\u001b[39m) \u001b[39m#range(0,5)\u001b[39;00m\n\u001b[0;32m      <a href='vscode-notebook-cell:/c%3A/Users/%D0%90%D0%BA%D0%BC%D0%B8%D1%80%D0%B0/OneDrive/%D0%94%D0%BE%D0%BA%D1%83%D0%BC%D0%B5%D0%BD%D1%82%D1%8B/GitHub/ICT_2022/1.ipynb#W6sZmlsZQ%3D%3D?line=3'>4</a>\u001b[0m \u001b[39m# print(arr_xx1)\u001b[39;00m\n",
      "File \u001b[1;32m~\\AppData\\Roaming\\Python\\Python310\\site-packages\\matplotlib\\pyplot.py:2790\u001b[0m, in \u001b[0;36mscatter\u001b[1;34m(x, y, s, c, marker, cmap, norm, vmin, vmax, alpha, linewidths, edgecolors, plotnonfinite, data, **kwargs)\u001b[0m\n\u001b[0;32m   2785\u001b[0m \u001b[39m@_copy_docstring_and_deprecators\u001b[39m(Axes\u001b[39m.\u001b[39mscatter)\n\u001b[0;32m   2786\u001b[0m \u001b[39mdef\u001b[39;00m \u001b[39mscatter\u001b[39m(\n\u001b[0;32m   2787\u001b[0m         x, y, s\u001b[39m=\u001b[39m\u001b[39mNone\u001b[39;00m, c\u001b[39m=\u001b[39m\u001b[39mNone\u001b[39;00m, marker\u001b[39m=\u001b[39m\u001b[39mNone\u001b[39;00m, cmap\u001b[39m=\u001b[39m\u001b[39mNone\u001b[39;00m, norm\u001b[39m=\u001b[39m\u001b[39mNone\u001b[39;00m,\n\u001b[0;32m   2788\u001b[0m         vmin\u001b[39m=\u001b[39m\u001b[39mNone\u001b[39;00m, vmax\u001b[39m=\u001b[39m\u001b[39mNone\u001b[39;00m, alpha\u001b[39m=\u001b[39m\u001b[39mNone\u001b[39;00m, linewidths\u001b[39m=\u001b[39m\u001b[39mNone\u001b[39;00m, \u001b[39m*\u001b[39m,\n\u001b[0;32m   2789\u001b[0m         edgecolors\u001b[39m=\u001b[39m\u001b[39mNone\u001b[39;00m, plotnonfinite\u001b[39m=\u001b[39m\u001b[39mFalse\u001b[39;00m, data\u001b[39m=\u001b[39m\u001b[39mNone\u001b[39;00m, \u001b[39m*\u001b[39m\u001b[39m*\u001b[39mkwargs):\n\u001b[1;32m-> 2790\u001b[0m     __ret \u001b[39m=\u001b[39m gca()\u001b[39m.\u001b[39mscatter(\n\u001b[0;32m   2791\u001b[0m         x, y, s\u001b[39m=\u001b[39ms, c\u001b[39m=\u001b[39mc, marker\u001b[39m=\u001b[39mmarker, cmap\u001b[39m=\u001b[39mcmap, norm\u001b[39m=\u001b[39mnorm,\n\u001b[0;32m   2792\u001b[0m         vmin\u001b[39m=\u001b[39mvmin, vmax\u001b[39m=\u001b[39mvmax, alpha\u001b[39m=\u001b[39malpha, linewidths\u001b[39m=\u001b[39mlinewidths,\n\u001b[0;32m   2793\u001b[0m         edgecolors\u001b[39m=\u001b[39medgecolors, plotnonfinite\u001b[39m=\u001b[39mplotnonfinite,\n\u001b[0;32m   2794\u001b[0m         \u001b[39m*\u001b[39m\u001b[39m*\u001b[39m({\u001b[39m\"\u001b[39m\u001b[39mdata\u001b[39m\u001b[39m\"\u001b[39m: data} \u001b[39mif\u001b[39;00m data \u001b[39mis\u001b[39;00m \u001b[39mnot\u001b[39;00m \u001b[39mNone\u001b[39;00m \u001b[39melse\u001b[39;00m {}), \u001b[39m*\u001b[39m\u001b[39m*\u001b[39mkwargs)\n\u001b[0;32m   2795\u001b[0m     sci(__ret)\n\u001b[0;32m   2796\u001b[0m     \u001b[39mreturn\u001b[39;00m __ret\n",
      "File \u001b[1;32m~\\AppData\\Roaming\\Python\\Python310\\site-packages\\matplotlib\\__init__.py:1423\u001b[0m, in \u001b[0;36m_preprocess_data.<locals>.inner\u001b[1;34m(ax, data, *args, **kwargs)\u001b[0m\n\u001b[0;32m   1420\u001b[0m \u001b[39m@functools\u001b[39m\u001b[39m.\u001b[39mwraps(func)\n\u001b[0;32m   1421\u001b[0m \u001b[39mdef\u001b[39;00m \u001b[39minner\u001b[39m(ax, \u001b[39m*\u001b[39margs, data\u001b[39m=\u001b[39m\u001b[39mNone\u001b[39;00m, \u001b[39m*\u001b[39m\u001b[39m*\u001b[39mkwargs):\n\u001b[0;32m   1422\u001b[0m     \u001b[39mif\u001b[39;00m data \u001b[39mis\u001b[39;00m \u001b[39mNone\u001b[39;00m:\n\u001b[1;32m-> 1423\u001b[0m         \u001b[39mreturn\u001b[39;00m func(ax, \u001b[39m*\u001b[39m\u001b[39mmap\u001b[39m(sanitize_sequence, args), \u001b[39m*\u001b[39m\u001b[39m*\u001b[39mkwargs)\n\u001b[0;32m   1425\u001b[0m     bound \u001b[39m=\u001b[39m new_sig\u001b[39m.\u001b[39mbind(ax, \u001b[39m*\u001b[39margs, \u001b[39m*\u001b[39m\u001b[39m*\u001b[39mkwargs)\n\u001b[0;32m   1426\u001b[0m     auto_label \u001b[39m=\u001b[39m (bound\u001b[39m.\u001b[39marguments\u001b[39m.\u001b[39mget(label_namer)\n\u001b[0;32m   1427\u001b[0m                   \u001b[39mor\u001b[39;00m bound\u001b[39m.\u001b[39mkwargs\u001b[39m.\u001b[39mget(label_namer))\n",
      "File \u001b[1;32m~\\AppData\\Roaming\\Python\\Python310\\site-packages\\matplotlib\\axes\\_axes.py:4520\u001b[0m, in \u001b[0;36mAxes.scatter\u001b[1;34m(self, x, y, s, c, marker, cmap, norm, vmin, vmax, alpha, linewidths, edgecolors, plotnonfinite, **kwargs)\u001b[0m\n\u001b[0;32m   4518\u001b[0m y \u001b[39m=\u001b[39m np\u001b[39m.\u001b[39mma\u001b[39m.\u001b[39mravel(y)\n\u001b[0;32m   4519\u001b[0m \u001b[39mif\u001b[39;00m x\u001b[39m.\u001b[39msize \u001b[39m!=\u001b[39m y\u001b[39m.\u001b[39msize:\n\u001b[1;32m-> 4520\u001b[0m     \u001b[39mraise\u001b[39;00m \u001b[39mValueError\u001b[39;00m(\u001b[39m\"\u001b[39m\u001b[39mx and y must be the same size\u001b[39m\u001b[39m\"\u001b[39m)\n\u001b[0;32m   4522\u001b[0m \u001b[39mif\u001b[39;00m s \u001b[39mis\u001b[39;00m \u001b[39mNone\u001b[39;00m:\n\u001b[0;32m   4523\u001b[0m     s \u001b[39m=\u001b[39m (\u001b[39m20\u001b[39m \u001b[39mif\u001b[39;00m mpl\u001b[39m.\u001b[39mrcParams[\u001b[39m'\u001b[39m\u001b[39m_internal.classic_mode\u001b[39m\u001b[39m'\u001b[39m] \u001b[39melse\u001b[39;00m\n\u001b[0;32m   4524\u001b[0m          mpl\u001b[39m.\u001b[39mrcParams[\u001b[39m'\u001b[39m\u001b[39mlines.markersize\u001b[39m\u001b[39m'\u001b[39m] \u001b[39m*\u001b[39m\u001b[39m*\u001b[39m \u001b[39m2.0\u001b[39m)\n",
      "\u001b[1;31mValueError\u001b[0m: x and y must be the same size"
     ]
    },
    {
     "data": {
      "image/png": "[encoded data removed]",
      "text/plain": [
       "<Figure size 640x480 with 1 Axes>"
      ]
     },
     "metadata": {},
     "output_type": "display_data"
    }
   ],
   "source": [
    "# model2 = skmod.LinearRegression().fit(arr_xx1, arr_y)\n",
    "plt.scatter(arr_xx1, arr_y)\n",
    "x_for_plot = np.arange(0,17,0.1) #range(0,5)\n",
    "# print(arr_xx1)\n",
    "x2_for_plot = x_for_plot * x_for_plot\n",
    "x_final = np.hstack([x_for_plot.reshape(-1,1),x2_for_plot.reshape(-1,1) ])\n",
    "y_for_plot = model2.predict(x_final)\n",
    "# print(arr_y)\n",
    "plt.plot(x_for_plot, y_for_plot)"
   ]
  }
 ],
 "metadata": {
  "kernelspec": {
   "display_name": "Python 3.10.2 64-bit",
   "language": "python",
   "name": "python3"
  },
  "language_info": {
   "codemirror_mode": {
    "name": "ipython",
    "version": 3
   },
   "file_extension": ".py",
   "mimetype": "text/x-python",
   "name": "python",
   "nbconvert_exporter": "python",
   "pygments_lexer": "ipython3",
   "version": "3.10.2"
  },
  "orig_nbformat": 4,
  "vscode": {
   "interpreter": {
    "hash": "03b254a122a29b5b6b2e2be093a3c4540ec601800921327b0325f2ff1dcb1ccb"
   }
  }
 },
 "nbformat": 4,
 "nbformat_minor": 2
}
