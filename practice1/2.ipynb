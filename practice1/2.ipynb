{
 "cells": [
  {
   "cell_type": "code",
   "execution_count": 3,
   "metadata": {},
   "outputs": [
    {
     "name": "stdout",
     "output_type": "stream",
     "text": [
      "['2018-12-07', '2018-12-10', '2018-12-11', '2018-12-12', '2018-12-13', '2018-12-14', '2018-12-17', '2018-12-18', '2018-12-19', '2018-12-20']\n",
      "['22.000000', '18.900000', '20.549999', '18.549999', '19.250000', '18.750000', '18.330000', '17.100000', '16.860001', '16.000000']\n",
      "['22.750000', '19.438999', '20.660000', '19.480000', '19.290001', '18.881001', '18.469999', '17.250000', '17.370001', '16.139999']\n",
      "['18.510000', '18.000000', '17.990000', '18.020000', '18.680000', '18.250000', '16.900000', '16.250000', '16.000000', '14.750000']\n",
      "['18.600000', '18.799999', '18.010000', '18.680000', '18.760000', '18.320000', '17.000000', '17.000000', '16.180000', '15.500000']\n",
      "['18.600000', '18.799999', '18.010000', '18.680000', '18.760000', '18.320000', '17.000000', '17.000000', '16.180000', '15.500000']\n",
      "['12995600', '4233300', '3435300', '2590700', '1608600', '746300', '1580800', '1621600', '941500', '2365200']\n"
     ]
    }
   ],
   "source": [
    "# Get the CSV data into Python variable\n",
    "import csv\n",
    "\n",
    "with open(\"MRNA.csv\", \"r\") as file:\n",
    "    csv_file = csv.reader(file)\n",
    "    date = []\n",
    "    open1 = []\n",
    "    high = []\n",
    "    low = []\n",
    "    close = []\n",
    "    adj_close = []\n",
    "    volume = []\n",
    "    for row in csv_file:\n",
    "        date.append(row[0])\n",
    "        open1.append(row[1])\n",
    "        high.append(row[2])\n",
    "        low.append(row[3])\n",
    "        close.append(row[4])\n",
    "        adj_close.append(row[5])\n",
    "        volume.append(row[6])\n",
    "\n",
    "print(date[1:11])\n",
    "print(open1[1:11])\n",
    "print(high[1:11])\n",
    "print(low[1:11])\n",
    "print(close[1:11])\n",
    "print(adj_close[1:11])\n",
    "print(volume[1:11])"
   ]
  }
 ],
 "metadata": {
  "kernelspec": {
   "display_name": "Python 3.10.2 64-bit (system)",
   "language": "python",
   "name": "python3"
  },
  "language_info": {
   "codemirror_mode": {
    "name": "ipython",
    "version": 3
   },
   "file_extension": ".py",
   "mimetype": "text/x-python",
   "name": "python",
   "nbconvert_exporter": "python",
   "pygments_lexer": "ipython3",
   "version": "3.10.2"
  },
  "orig_nbformat": 4,
  "vscode": {
   "interpreter": {
    "hash": "03b254a122a29b5b6b2e2be093a3c4540ec601800921327b0325f2ff1dcb1ccb"
   }
  }
 },
 "nbformat": 4,
 "nbformat_minor": 2
}
