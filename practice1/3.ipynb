{
 "cells": [
  {
   "cell_type": "code",
   "execution_count": 35,
   "metadata": {},
   "outputs": [
    {
     "name": "stdout",
     "output_type": "stream",
     "text": [
      "[datetime.datetime(2018, 12, 7, 0, 0), datetime.datetime(2018, 12, 10, 0, 0), datetime.datetime(2018, 12, 11, 0, 0), datetime.datetime(2018, 12, 12, 0, 0), datetime.datetime(2018, 12, 13, 0, 0), datetime.datetime(2018, 12, 14, 0, 0), datetime.datetime(2018, 12, 17, 0, 0), datetime.datetime(2018, 12, 18, 0, 0), datetime.datetime(2018, 12, 19, 0, 0), datetime.datetime(2018, 12, 20, 0, 0)]\n",
      "[22.0, 18.9, 20.549999, 18.549999, 19.25, 18.75, 18.33, 17.1, 16.860001, 16.0]\n",
      "[22.75, 19.438999, 20.66, 19.48, 19.290001, 18.881001, 18.469999, 17.25, 17.370001, 16.139999]\n",
      "[18.51, 18.0, 17.99, 18.02, 18.68, 18.25, 16.9, 16.25, 16.0, 14.75]\n",
      "[18.6, 18.799999, 18.01, 18.68, 18.76, 18.32, 17.0, 17.0, 16.18, 15.5]\n",
      "[18.6, 18.799999, 18.01, 18.68, 18.76, 18.32, 17.0, 17.0, 16.18, 15.5]\n",
      "[12995600.0, 4233300.0, 3435300.0, 2590700.0, 1608600.0, 746300.0, 1580800.0, 1621600.0, 941500.0, 2365200.0]\n"
     ]
    }
   ],
   "source": [
    "# Modify the list\n",
    "import csv\n",
    "from datetime import datetime\n",
    "from time import strptime\n",
    "\n",
    "with open(\"MRNA.csv\", \"r\") as file:\n",
    "    csv_file = csv.reader(file)\n",
    "    date = []\n",
    "    open1 = []\n",
    "    high = []\n",
    "    low = []\n",
    "    close = []\n",
    "    adj_close = []\n",
    "    volume = []\n",
    "    for row in csv_file:\n",
    "        date.append(row[0])\n",
    "        open1.append(row[1])\n",
    "        high.append(row[2])\n",
    "        low.append(row[3])\n",
    "        close.append(row[4])\n",
    "        adj_close.append(row[5])\n",
    "        volume.append(row[6])\n",
    "new_date, new_open, new_high, new_low, new_close, new_adj, new_volume = [], [], [], [], [], [], []\n",
    "\n",
    "\n",
    "for i in range(1, 11):\n",
    "    new_date.append(datetime.strptime(date[i], \"%Y-%m-%d\"))\n",
    "    new_open.append(float(open1[i]))\n",
    "    new_high.append(float(high[i]))\n",
    "    new_low.append(float(low[i]))\n",
    "    new_close.append(float(close[i]))\n",
    "    new_adj.append(float(adj_close[i]))\n",
    "    new_volume.append(float(volume[i]))\n",
    "\n",
    "print(new_date, new_open, new_high, new_low, new_close, new_adj, new_volume, sep = '\\n')\n"
   ]
  }
 ],
 "metadata": {
  "kernelspec": {
   "display_name": "Python 3.10.2 64-bit (system)",
   "language": "python",
   "name": "python3"
  },
  "language_info": {
   "codemirror_mode": {
    "name": "ipython",
    "version": 3
   },
   "file_extension": ".py",
   "mimetype": "text/x-python",
   "name": "python",
   "nbconvert_exporter": "python",
   "pygments_lexer": "ipython3",
   "version": "3.10.2"
  },
  "orig_nbformat": 4,
  "vscode": {
   "interpreter": {
    "hash": "03b254a122a29b5b6b2e2be093a3c4540ec601800921327b0325f2ff1dcb1ccb"
   }
  }
 },
 "nbformat": 4,
 "nbformat_minor": 2
}
